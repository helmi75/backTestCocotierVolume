{
 "cells": [
  {
   "cell_type": "markdown",
   "metadata": {},
   "source": [
    "## imports"
   ]
  },
  {
   "cell_type": "code",
   "execution_count": 9,
   "metadata": {},
   "outputs": [
    {
     "name": "stdout",
     "output_type": "stream",
     "text": [
      "Collecting pandas\n",
      "  Downloading pandas-2.0.1-cp38-cp38-manylinux_2_17_x86_64.manylinux2014_x86_64.whl (12.3 MB)\n",
      "\u001b[K     |████████████████████████████████| 12.3 MB 1.7 MB/s eta 0:00:01    |████████████████▎               | 6.3 MB 2.7 MB/s eta 0:00:03     |█████████████████▉              | 6.9 MB 1.1 MB/s eta 0:00:06\n",
      "\u001b[?25hRequirement already satisfied: pytz>=2020.1 in ./.env_v2/lib/python3.8/site-packages (from pandas) (2023.3)\n",
      "Requirement already satisfied: numpy>=1.20.3; python_version < \"3.10\" in ./.env_v2/lib/python3.8/site-packages (from pandas) (1.24.3)\n",
      "Requirement already satisfied: python-dateutil>=2.8.2 in ./.env_v2/lib/python3.8/site-packages (from pandas) (2.8.2)\n",
      "Requirement already satisfied: tzdata>=2022.1 in ./.env_v2/lib/python3.8/site-packages (from pandas) (2023.3)\n",
      "Requirement already satisfied: six>=1.5 in ./.env_v2/lib/python3.8/site-packages (from python-dateutil>=2.8.2->pandas) (1.16.0)\n",
      "Installing collected packages: pandas\n",
      "Successfully installed pandas-2.0.1\n",
      "Note: you may need to restart the kernel to use updated packages.\n"
     ]
    }
   ],
   "source": [
    "pip install pandas "
   ]
  },
  {
   "cell_type": "code",
   "execution_count": 12,
   "metadata": {
    "scrolled": true
   },
   "outputs": [],
   "source": [
    "# Importation des bibliothèques \n",
    "import ccxt\n",
    "#import tqdm as tq\n",
    "from binance import Client\n",
    "import numpy as np \n",
    "import pandas as pd\n",
    "from datetime import datetime\n",
    "from time import time \n",
    "from datetime import timedelta\n",
    "import plotly.graph_objects as go\n",
    "import matplotlib.pyplot as plt\n",
    "import warnings\n",
    "warnings.filterwarnings(\"ignore\")"
   ]
  },
  {
   "cell_type": "markdown",
   "metadata": {},
   "source": [
    "## Initialisation\n"
   ]
  },
  {
   "cell_type": "markdown",
   "metadata": {},
   "source": [
    "## Fonctions "
   ]
  },
  {
   "cell_type": "code",
   "execution_count": 13,
   "metadata": {},
   "outputs": [],
   "source": [
    "\n",
    "def to_timestamp(date):\n",
    "    element = datetime.strptime(date,\"%Y-%m-%d\")\n",
    "    timestamp = int(datetime.timestamp(element))*1000\n",
    "    return timestamp\n",
    "\n",
    "def convert_time(dataframe): \n",
    "  temps=[]\n",
    "  for elm in  dataframe['timestamp']:\n",
    "    temps.append(datetime.fromtimestamp(elm/1000))     \n",
    "  dataframe['timestamp'] =pd.DatetimeIndex(pd.to_datetime(temps)).tz_localize('UTC').tz_convert('UTC')\n",
    "  return dataframe\n",
    "\n",
    "\n",
    "def detection_mauvais_shape(dictionaire_crypto):\n",
    "  liste_shape =[]\n",
    "  liste_crypto=[]\n",
    "  boulean =[]\n",
    "  for elm in dictionaire_crypto :\n",
    "    liste_shape.append(dictionaire_crypto[elm].shape[0])\n",
    "    liste_crypto.append(elm)\n",
    "  for elm in liste_shape :\n",
    "    if elm < np.max(liste_shape):\n",
    "      boulean.append(True)\n",
    "    else :\n",
    "      boulean.append(False)\n",
    "  boulean,liste_crypto = np.array(boulean),np.array(liste_crypto)\n",
    "  return  liste_crypto[boulean]\n",
    "\n",
    "def correction_shape(dictionaire_crypto, array):\n",
    "    max_shape=[]\n",
    "    shape_a_manque =[]\n",
    "    liste_final=[]\n",
    "    nom_shape_a_manque=[]\n",
    "\n",
    "    #onc cherche le shape maximun dans tous le array\n",
    "    for elm in dictionaire_crypto:\n",
    "      max_shape.append(dictionaire_crypto[elm].shape[0])\n",
    "    max_shape = np.max(max_shape)\n",
    "\n",
    "    # on calcul le shape manquant dans le array\n",
    "    for elm1 in array :\n",
    "       shape_a_manque.append(max_shape - dictionaire_crypto[elm1].shape[0])\n",
    "       nom_shape_a_manque.append(elm1)\n",
    "    for shape, nom  in zip(shape_a_manque, nom_shape_a_manque) :\n",
    "        liste_final = [ np.ones(shape),np.zeros(shape)]\n",
    "        df_liste_final = pd.DataFrame(np.transpose(liste_final), columns=[nom+'_open',nom+'_close'])\n",
    "        dictionaire_crypto[nom] = pd.concat((df_liste_final,dictionaire_crypto[nom]), axis=0)\n",
    "    return dictionaire_crypto\n",
    "\n",
    "    \n",
    "def generation_date (dataframe, delta_pas):\n",
    "  test_list=[]\n",
    "  pas = timedelta(hours = delta_pas)\n",
    "  date_ini = dataframe.index[::-1][0]\n",
    "  inverse_time =dataframe.index[::-1]\n",
    "  for i in range (len(inverse_time)):\n",
    "    print(\"date_ini\",date_ini)\n",
    "    print(\"pas\",pas)\n",
    "    print(\"i\",i)\n",
    "    test_list.append(date_ini-pas*i)\n",
    "  test_list = test_list[::-1]\n",
    "  return test_list\n",
    "\n",
    "def correction_date(crypto, array_mauvais_shape, delta):\n",
    "    for elm in array_mauvais_shape :\n",
    "            print('elm',elm)\n",
    "            print(int(delta[:1]))\n",
    "            print(crypto[elm],'\\n\\n\\n\\n\\n\\n')\n",
    "\n",
    "            crypto[elm]['timestamp'] = generation_date (crypto[elm], int(delta[:1]))\n",
    "            crypto[elm] = crypto[elm].set_index('timestamp') \n",
    "    return crypto\n",
    "\n",
    "def variation(dataframe) :\n",
    "  \"\"\" \n",
    "  Calcul  de la variation\n",
    "  ENtRE => dataframe   exemple crypto['eth/usdt']\n",
    "  SORTIE =>  pandas.core.series.Series\n",
    "  \"\"\"\n",
    "  open_ = dataframe[dataframe.columns[0]]\n",
    "  close = dataframe[dataframe.columns[1]]\n",
    "  serie_variation = ((close)/open_)\n",
    "  print(dataframe.columns[0].split(\"/\")[1])\n",
    "  df_serie_variation = pd.DataFrame(serie_variation, dataframe.index, columns=[dataframe.columns[0].split(\"/\")[0]+'_var'])\n",
    "  return df_serie_variation\n",
    "\n",
    "def fonction_cumul(dataframe, name_crypto ):\n",
    "    dataframe['cumul_'+name_crypto.split(\"/\")[0]]=((dataframe['coef_multi_'+name_crypto.split(\"/\")[0]])*100)-100\n",
    "    return dataframe\n",
    "\n",
    "\n",
    "\n",
    "def coef_multi(dataframe):\n",
    "  \"\"\" Calcul du coef_multiplicateur\n",
    "      entre =>  Dataframe  exemple crypto['eth/usdt']\n",
    "      sortie => pandas.Series du coeffitient multiplicateur\n",
    "  \"\"\"\n",
    "  liste_finale = []\n",
    "  for i in  range (len(dataframe.index)):\n",
    "    if dataframe[dataframe.columns[2]][i]==0:\n",
    "      liste_finale.append(0)\n",
    "    else:\n",
    "      break\n",
    "  var_zeros = dataframe[dataframe.columns[2]][:i]\n",
    "  var_sans_zero = dataframe.iloc[i:][dataframe.columns[2]]\n",
    "  var_sans_z_cumprod = var_sans_zero.cumprod()\n",
    "  coef_multi = pd.concat([var_zeros,var_sans_z_cumprod])\n",
    "  return coef_multi\n",
    "\n",
    "def variationN(cryptos, ni):\n",
    "    if (ni == 'N'):\n",
    "        for crypto in cryptos:\n",
    "            \n",
    "            cryptos[crypto][\"Variation_\" + crypto] = cryptos[crypto][crypto + \"_close\"] / cryptos[crypto][\n",
    "                crypto + \"_open\"]\n",
    "            cryptos[crypto][\"Variation_N_\" + crypto] = cryptos[crypto][crypto + \"_close\"] / cryptos[crypto][\n",
    "                crypto + \"_open\"]\n",
    "    elif (ni == 'N-1'):\n",
    "        for crypto in cryptos:\n",
    "            \n",
    "            cryptos[crypto][\"Variation_N_\" + crypto] = cryptos[crypto][crypto + \"_close\"] / cryptos[crypto][\n",
    "                crypto + \"_open\"]\n",
    "            cryptos[crypto][\"Variation_\" + crypto] = 0.0\n",
    "            cryptos[crypto][\"Variation_\" + crypto][0] = float(cryptos[crypto][crypto+ \"_close\"][0]) /float(cryptos[crypto][crypto + \"_open\"][0])\n",
    "            for j in range(1,len(cryptos[crypto])):\n",
    "                cryptos[crypto][\"Variation_\" + crypto][j] = cryptos[crypto][crypto + \"_close\"][j] / cryptos[crypto][crypto + \"_open\"][j-1]\n",
    "    elif (ni == 'N-2'):\n",
    "        for crypto in cryptos:\n",
    "            \n",
    "            cryptos[crypto][\"Variation_N_\" + crypto] = cryptos[crypto][crypto + \"_close\"] / cryptos[crypto][\n",
    "                crypto + \"_open\"]\n",
    "            cryptos[crypto][\"Variation_\" + crypto] = 0.0\n",
    "            cryptos[crypto][\"Variation_\" + crypto][0] = float(cryptos[crypto][crypto + \"_close\"][0]) / float(\n",
    "                cryptos[crypto][crypto + \"_open\"][0])\n",
    "            cryptos[crypto][\"Variation_\" + crypto][1] = float(cryptos[crypto][crypto + \"_close\"][1]) / float(\n",
    "                cryptos[crypto][crypto + \"_open\"][0])\n",
    "            for j in range(2, len(cryptos[crypto])):\n",
    "                cryptos[crypto][\"Variation_\" + crypto][j] = cryptos[crypto][crypto + \"_close\"][j] / \\\n",
    "                                                                 cryptos[crypto][crypto + \"_open\"][j - 2]\n",
    "    return (cryptos)\n",
    "\n",
    "def coeffMulti(cryptos):\n",
    "    for crypto in cryptos:\n",
    "        for i in range(len(cryptos[crypto].index)):\n",
    "            if (i == 0):\n",
    "                cryptos[crypto][\"Coeff_mult_\" + crypto] = cryptos[crypto][crypto + \"_close\"][0] / \\\n",
    "                                                               cryptos[crypto][crypto + \"_open\"][0]\n",
    "            else:\n",
    "                cryptos[crypto][\"Coeff_mult_\" + crypto][i] = cryptos[crypto][\"Variation_N_\" + crypto][i] * \\\n",
    "                                                                  cryptos[crypto][\"Coeff_mult_\" + crypto][i - 1]\n",
    "                # print(cryptos[crypto][\"Variation_N_\" + crypto[:-5]][i],\" * \",  cryptos[crypto][\"Coeff_mult_\" + crypto[:-5]][i - 1] ,\" = \",cryptos[crypto][\"Coeff_mult_\" + crypto[:-5]][i] )\n",
    "\n",
    "    return cryptos\n",
    "\n",
    "\n",
    "def mergeCryptoTogether(cryptos):\n",
    "    for i in cryptos:\n",
    "        cryptos[\"BOT_MAX\"] = cryptos[i].copy()\n",
    "        cryptos[\"BOT_MAX\"].rename(columns={\"Variation_\" + i: \"Variation_BOTMAX\"}, inplace=True)\n",
    "        cryptos[\"BOT_MAX\"].rename(columns={i + \"_close\": \"Variation2BOTMAX\"}, inplace=True)\n",
    "        cryptos[\"BOT_MAX\"].rename(columns={\"Coeff_mult_\" + i: \"Coeff_mult_BOTMAX\"}, inplace=True)\n",
    "        cryptos[\"BOT_MAX\"].rename(columns={\"Variation_N_\" + i: \"Variation_BOTMAX_N\"}, inplace=True)\n",
    "        break\n",
    "    cryptos = pd.concat(cryptos, axis=1)\n",
    "    return cryptos\n",
    "\n",
    "def botMax(cryptos):\n",
    "    maxis = []\n",
    "    for i in range(len(cryptos)):\n",
    "        v = []\n",
    "        k = 0\n",
    "        for j in range(len(cryptos.iloc[i])):\n",
    "            if (k == 3):\n",
    "                v.append(cryptos.iloc[i].iloc[j])\n",
    "            elif (k == 4):\n",
    "                k = -1\n",
    "            k += 1\n",
    "        maxx = max(v)\n",
    "        maxis.append(v.index(maxx))\n",
    "        cryptos[\"BOT_MAX\"][\"Variation_BOTMAX\"][i] = maxx\n",
    "    return cryptos, maxis\n",
    "\n",
    "def botMaxVariation2(cryptos, maxis):\n",
    "    botNames = []\n",
    "    for crypto in cryptos:\n",
    "        if (crypto[0] not in botNames):\n",
    "            botNames.append(crypto[0])\n",
    "    for i in range(len(cryptos)):\n",
    "        botName = botNames[maxis[i]]\n",
    "        cryptos[\"BOT_MAX\"][\"Variation_BOTMAX_N\"][i] = cryptos[botName][\"Variation_N_\" + botName][i]\n",
    "    for i in range(0, len(cryptos) - 1):\n",
    "        botName = botNames[maxis[i]]\n",
    "        cryptos[\"BOT_MAX\"][\"Variation2BOTMAX\"][i + 1] = cryptos[botName][\"Variation_N_\" + botName][i + 1]\n",
    "    cryptos[\"BOT_MAX\"][\"Variation2BOTMAX\"][0] = 0\n",
    "\n",
    "    return cryptos\n",
    "\n",
    "def coeffMultiBotMax(cryptos):\n",
    "    cryptos[\"BOT_MAX\"][\"Coeff_mult_BOTMAX\"][0] = 1.000\n",
    "    for i in range(1, len(cryptos)):\n",
    "        cryptos[\"BOT_MAX\"][\"Coeff_mult_BOTMAX\"][i] = cryptos[\"BOT_MAX\"][\"Coeff_mult_BOTMAX\"][i - 1] * \\\n",
    "                                                     cryptos[\"BOT_MAX\"][\"Variation2BOTMAX\"][i]\n",
    "    return cryptos\n",
    "\n",
    "def coefmultiFinal(cryptos):\n",
    "    tabe = {}\n",
    "    for crypto in cryptos:\n",
    "        if (crypto[1].find(\"Coeff_mult_\") == 0):\n",
    "            tabe[crypto[1]] = cryptos[crypto]\n",
    "    tabe = pd.DataFrame(tabe)\n",
    "    return tabe\n",
    "\n",
    "def convert_stamps_to_time (stamps):  \n",
    "\n",
    "\n",
    "    time_converted = pd.to_datetime(datetime.fromtimestamp(stamps/1000)).tz_localize('UTC').tz_convert('UTC')\n",
    "    return time_converted\n",
    "\n",
    "# Récupération de tous les tickers\n",
    "def best_10_cyptos(exchange):\n",
    "    markets = exchange.fetch_tickers() \n",
    "    df_volume = pd.DataFrame(markets).T[\"quoteVolume\"]\n",
    "    df_volume_usdt = df_volume[df_volume.index.str.endswith('/USDT')]    \n",
    "    df_10_bestcryptos = df_volume_usdt.sort_values(ascending=False)[:10]\n",
    "    list_10_best_cryptos = df_10_bestcryptos.index\n",
    "    return list_10_best_cryptos\n",
    "\n",
    "\n",
    "def dowload_data(market, delta,star_time, end_time):\n",
    "    crypto={}\n",
    "    for elm in market :\n",
    "        x = elm.lower().split(\"/\")[0]+\"_\"+delta\n",
    "        crypto[x] = client.get_historical_klines(elm.replace(\"/\",\"\").upper(), delta,star_time, end_time)\n",
    "        crypto[x]=pd.DataFrame(data=crypto[x], columns=['timestamp', x+'_open', 'high', 'low', x+'_close', 'volume', 'close_time', 'quote_av', 'trades', 'tb_base_av', 'tb_quote_av', 'ignore' ]) \n",
    "        crypto[x] = crypto[x][['timestamp', x+'_open', x+'_close']]\n",
    "        crypto[x] = convert_time(crypto[x])\n",
    "        crypto[x] = crypto[x].astype({x+'_open': 'float64',x+'_close': 'float64'})\n",
    "        crypto[x] = crypto[x].set_index('timestamp')\n",
    "    return crypto\n",
    "\n",
    "def dowload_data_with_volume(market, delta,star_time, end_time):\n",
    "    crypto={}\n",
    "    for elm in market :\n",
    "        x = elm.lower().split(\"/\")[0]+\"_\"+delta\n",
    "        crypto[x] = client.get_historical_klines(elm.replace(\"/\",\"\").upper(), delta,star_time, end_time)\n",
    "        crypto[x]=pd.DataFrame(data=crypto[x], columns=['timestamp', x+'_open', 'high', 'low', x+'_close', x+'_volume', 'close_time', x+'_quote_av', 'trades', 'tb_base_av', x+'_tb_quote_av', 'ignore' ]) \n",
    "        crypto[x] = crypto[x][['timestamp', x+'_open', x+'_close', x+'_volume', x+'_quote_av', x+'_tb_quote_av']]\n",
    "        crypto[x] = convert_time(crypto[x])\n",
    "        crypto[x] = crypto[x].astype({x+'_open': 'float64',\n",
    "                                      x+'_close': 'float64', \n",
    "                                      x+'_volume': 'float64',\n",
    "                                      x+'_quote_av':'float64',\n",
    "                                      x+'_tb_quote_av': 'float64'})\n",
    "        crypto[x] = crypto[x].set_index('timestamp')\n",
    "    return crypto\n",
    "\n",
    "def list_cryptos_endswith_usdt(list_all_cryptos):\n",
    "     cryptos_usdt = [ crypto for crypto in list_all_cryptos if crypto.endswith('USDT')]\n",
    "     return cryptos_usdt"
   ]
  },
  {
   "cell_type": "markdown",
   "metadata": {},
   "source": [
    "## ALgo Cocotier"
   ]
  },
  {
   "cell_type": "code",
   "execution_count": 14,
   "metadata": {},
   "outputs": [],
   "source": [
    "# la fonction  de l'algorithme cocotier \n",
    "def algo_cocotier(list_10_best_cryptos, delta, star_time, end_time, computing, key):   \n",
    "    crypto = dowload_data_with_volume(list_10_best_cryptos, delta,star_time, end_time)\n",
    "    array_mauvais_shape = detection_mauvais_shape(crypto)\n",
    "    crypto = correction_shape(crypto, array_mauvais_shape)\n",
    "    crypto = correction_date(crypto, array_mauvais_shape, delta)\n",
    "    crypto = variationN(crypto, computing)\n",
    "    crypto = coeffMulti(crypto)\n",
    "    crypto = mergeCryptoTogether(crypto)\n",
    "    crypto, maxis = botMax(crypto)\n",
    "    crypto = botMaxVariation2(crypto, maxis)\n",
    "    crypto = coeffMultiBotMax(crypto)\n",
    "    coefMulti = coefmultiFinal(crypto)\n",
    "    star_time = convert_stamps_to_time (star_time)\n",
    "    end_time = convert_stamps_to_time (end_time)\n",
    "    value = coefMulti[\"Coeff_mult_BOTMAX\"][-1:].values[0]\n",
    "    return computing, star_time, end_time, delta, value, key, list_10_best_cryptos "
   ]
  },
  {
   "cell_type": "markdown",
   "metadata": {},
   "source": [
    "## Initialisation "
   ]
  },
  {
   "cell_type": "code",
   "execution_count": 20,
   "metadata": {},
   "outputs": [],
   "source": [
    "#apiKey =\"ZKf8B87CaG00DYggLBZ6iN1YgPhBRbvzYACQCLEvWifLQd3bpgIsV9SpjeoPr9on\"\n",
    "#secret = \"iknYxKq29OdAs5uLzuZrTyBbl2aH1V3r6fj1GdJ0UmWwZYMULup0rKSRnJCSNCKT\"\n",
    "\n",
    "apiKey = \"vGjZjIU9d93pdkXwUWIqqQjiNfjBJEMuNrheUnQ5FQXNIGohuGHr0gEaYpQoJINL\"\n",
    "secret = \"1Z23tY8k4eqVuGcZaDxOWMrGyeJP4dXfTCWgX7HQS2jjepZPEAlOlIe6DjUjZsnO\"\n",
    "exchange = ccxt.binance({\n",
    "    'apiKey': apiKey,\n",
    "    'secret': secret,\n",
    "    'enableRateLimit': True\n",
    "})\n",
    "\n",
    "client = Client()  \n",
    "crypto = {}\n",
    "boxmax ={}"
   ]
  },
  {
   "cell_type": "markdown",
   "metadata": {},
   "source": [
    "### les inputs "
   ]
  },
  {
   "cell_type": "code",
   "execution_count": 21,
   "metadata": {},
   "outputs": [],
   "source": [
    "# imputs\n",
    "list_10_best_cryptos = best_10_cyptos(exchange).to_list()\n",
    "#list_10_best_cryptos = [elm.split(\"USDT\")[0]+\"/USDT\" for elm in df_final.loc['2022-01-01'][0]]\n",
    "if  \"BTC/USDT\" not in list_10_best_cryptos :\n",
    "    list_10_best_cryptos.insert(0,\"BTC/USDT\") "
   ]
  },
  {
   "cell_type": "code",
   "execution_count": 22,
   "metadata": {},
   "outputs": [
    {
     "data": {
      "text/plain": [
       "['BTC/USDT',\n",
       " 'ETH/USDT',\n",
       " 'TUSD/USDT',\n",
       " 'USDC/USDT',\n",
       " 'BNB/USDT',\n",
       " 'BUSD/USDT',\n",
       " 'XRP/USDT',\n",
       " 'EDU/USDT',\n",
       " 'ARB/USDT',\n",
       " 'IDEX/USDT']"
      ]
     },
     "execution_count": 22,
     "metadata": {},
     "output_type": "execute_result"
    }
   ],
   "source": [
    "list_10_best_cryptos"
   ]
  },
  {
   "cell_type": "code",
   "execution_count": 239,
   "metadata": {},
   "outputs": [],
   "source": [
    "pool_hour = ['4h','6h','8h','12h']\n",
    "pool_computing = ['N','N-1','N-2']\n",
    "pool_date = { \"bull\" :[(\"2023-01-01\", \"2023-02-19\")]#,(\"2021-07-19\" ,\"2021-07-21\")],\n",
    "            #\"bear\" : [(\"2021-05-18\",\"2021-05-20\"),(\"2021-11-08\",\"2021-11-10\")],\n",
    "            #\"range\" : [ (\"2022-06-20\", \"2022-06-22\")] \n",
    "            }    \n",
    "file_path = \"here the path to save a csv file\" # exemple  \"c:\\name\\data\\\"\n",
    "name_csv_file= 'result.csv' # you can change a csv name file as you like "
   ]
  },
  {
   "cell_type": "markdown",
   "metadata": {},
   "source": [
    "### Calcul de compexité avant de l'ancer l'algo\n",
    "- Attention ça prend pas en compte  le nombre de ligne (open,close) de chaque cryptos, ni le nobre de poll cryptos ."
   ]
  },
  {
   "cell_type": "code",
   "execution_count": 240,
   "metadata": {},
   "outputs": [
    {
     "name": "stdout",
     "output_type": "stream",
     "text": [
      "compexité O(n^4)  :  12\n"
     ]
    }
   ],
   "source": [
    "for key, dates in pool_date.items():\n",
    "        for start_date, end_date in dates:\n",
    "            pass\n",
    "print(\"compexité O(n^4)  : \", len(pool_date) * len(dates) * len(pool_computing) * len(pool_hour))"
   ]
  },
  {
   "cell_type": "markdown",
   "metadata": {},
   "source": [
    "## Backtest "
   ]
  },
  {
   "cell_type": "code",
   "execution_count": 276,
   "metadata": {},
   "outputs": [
    {
     "name": "stderr",
     "output_type": "stream",
     "text": [
      "Barre de progression: 100%|██████████| 12/12 [05:23<00:00, 27.00s/it]\n"
     ]
    }
   ],
   "source": [
    "result = []\n",
    "total_iterations = len(pool_date) * len(dates) * len(pool_computing) * len(pool_hour)\n",
    "\n",
    "with tq.tqdm(total=total_iterations, desc=\"Barre de progression\") as pbar:\n",
    "    for key, dates in pool_date.items():\n",
    "        for start_date, end_date in dates:\n",
    "            for computing in pool_computing:  \n",
    "                for hour in pool_hour:             \n",
    "                    star_time = to_timestamp(str(start_date)) \n",
    "                    end_time = to_timestamp(str(end_date))\n",
    "                    result.append(algo_cocotier(list_10_best_cryptos, hour,star_time, end_time, computing, key))\n",
    "                    pbar.update(1)\n",
    "\n",
    "df_result = pd.DataFrame(result,columns=[\"Computing\",\"start_date\",\"end_date\",\"candel\",\"value\",'market_type'])"
   ]
  },
  {
   "cell_type": "markdown",
   "metadata": {},
   "source": [
    "## Tableau result ascending sort "
   ]
  },
  {
   "cell_type": "code",
   "execution_count": 277,
   "metadata": {},
   "outputs": [
    {
     "data": {
      "text/plain": [
       "['BTC/USDT',\n",
       " 'PAXG/USDT',\n",
       " 'BNBUP/USDT',\n",
       " 'YFII/USDT',\n",
       " 'MKR/USDT',\n",
       " 'ILV/USDT',\n",
       " 'YFI/USDT',\n",
       " 'GNO/USDT',\n",
       " 'NMR/USDT',\n",
       " 'AUTO/USDT',\n",
       " 'DCR/USDT']"
      ]
     },
     "execution_count": 277,
     "metadata": {},
     "output_type": "execute_result"
    }
   ],
   "source": [
    "list_10_best_cryptos"
   ]
  },
  {
   "cell_type": "code",
   "execution_count": 278,
   "metadata": {},
   "outputs": [
    {
     "data": {
      "text/html": [
       "<div>\n",
       "<style scoped>\n",
       "    .dataframe tbody tr th:only-of-type {\n",
       "        vertical-align: middle;\n",
       "    }\n",
       "\n",
       "    .dataframe tbody tr th {\n",
       "        vertical-align: top;\n",
       "    }\n",
       "\n",
       "    .dataframe thead th {\n",
       "        text-align: right;\n",
       "    }\n",
       "</style>\n",
       "<table border=\"1\" class=\"dataframe\">\n",
       "  <thead>\n",
       "    <tr style=\"text-align: right;\">\n",
       "      <th></th>\n",
       "      <th>Computing</th>\n",
       "      <th>start_date</th>\n",
       "      <th>end_date</th>\n",
       "      <th>candel</th>\n",
       "      <th>value</th>\n",
       "      <th>market_type</th>\n",
       "    </tr>\n",
       "  </thead>\n",
       "  <tbody>\n",
       "    <tr>\n",
       "      <th>2</th>\n",
       "      <td>N</td>\n",
       "      <td>2023-01-01 00:00:00+00:00</td>\n",
       "      <td>2023-02-19 00:00:00+00:00</td>\n",
       "      <td>8h</td>\n",
       "      <td>1.491557</td>\n",
       "      <td>bull</td>\n",
       "    </tr>\n",
       "    <tr>\n",
       "      <th>6</th>\n",
       "      <td>N-1</td>\n",
       "      <td>2023-01-01 00:00:00+00:00</td>\n",
       "      <td>2023-02-19 00:00:00+00:00</td>\n",
       "      <td>8h</td>\n",
       "      <td>1.491557</td>\n",
       "      <td>bull</td>\n",
       "    </tr>\n",
       "    <tr>\n",
       "      <th>10</th>\n",
       "      <td>N-2</td>\n",
       "      <td>2023-01-01 00:00:00+00:00</td>\n",
       "      <td>2023-02-19 00:00:00+00:00</td>\n",
       "      <td>8h</td>\n",
       "      <td>1.491557</td>\n",
       "      <td>bull</td>\n",
       "    </tr>\n",
       "    <tr>\n",
       "      <th>0</th>\n",
       "      <td>N</td>\n",
       "      <td>2023-01-01 00:00:00+00:00</td>\n",
       "      <td>2023-02-19 00:00:00+00:00</td>\n",
       "      <td>4h</td>\n",
       "      <td>1.491041</td>\n",
       "      <td>bull</td>\n",
       "    </tr>\n",
       "    <tr>\n",
       "      <th>4</th>\n",
       "      <td>N-1</td>\n",
       "      <td>2023-01-01 00:00:00+00:00</td>\n",
       "      <td>2023-02-19 00:00:00+00:00</td>\n",
       "      <td>4h</td>\n",
       "      <td>1.491041</td>\n",
       "      <td>bull</td>\n",
       "    </tr>\n",
       "    <tr>\n",
       "      <th>8</th>\n",
       "      <td>N-2</td>\n",
       "      <td>2023-01-01 00:00:00+00:00</td>\n",
       "      <td>2023-02-19 00:00:00+00:00</td>\n",
       "      <td>4h</td>\n",
       "      <td>1.491041</td>\n",
       "      <td>bull</td>\n",
       "    </tr>\n",
       "    <tr>\n",
       "      <th>1</th>\n",
       "      <td>N</td>\n",
       "      <td>2023-01-01 00:00:00+00:00</td>\n",
       "      <td>2023-02-19 00:00:00+00:00</td>\n",
       "      <td>6h</td>\n",
       "      <td>1.490183</td>\n",
       "      <td>bull</td>\n",
       "    </tr>\n",
       "    <tr>\n",
       "      <th>5</th>\n",
       "      <td>N-1</td>\n",
       "      <td>2023-01-01 00:00:00+00:00</td>\n",
       "      <td>2023-02-19 00:00:00+00:00</td>\n",
       "      <td>6h</td>\n",
       "      <td>1.490183</td>\n",
       "      <td>bull</td>\n",
       "    </tr>\n",
       "    <tr>\n",
       "      <th>9</th>\n",
       "      <td>N-2</td>\n",
       "      <td>2023-01-01 00:00:00+00:00</td>\n",
       "      <td>2023-02-19 00:00:00+00:00</td>\n",
       "      <td>6h</td>\n",
       "      <td>1.490183</td>\n",
       "      <td>bull</td>\n",
       "    </tr>\n",
       "    <tr>\n",
       "      <th>3</th>\n",
       "      <td>N</td>\n",
       "      <td>2023-01-01 00:00:00+00:00</td>\n",
       "      <td>2023-02-19 00:00:00+00:00</td>\n",
       "      <td>12h</td>\n",
       "      <td>1.488119</td>\n",
       "      <td>bull</td>\n",
       "    </tr>\n",
       "    <tr>\n",
       "      <th>7</th>\n",
       "      <td>N-1</td>\n",
       "      <td>2023-01-01 00:00:00+00:00</td>\n",
       "      <td>2023-02-19 00:00:00+00:00</td>\n",
       "      <td>12h</td>\n",
       "      <td>1.488119</td>\n",
       "      <td>bull</td>\n",
       "    </tr>\n",
       "    <tr>\n",
       "      <th>11</th>\n",
       "      <td>N-2</td>\n",
       "      <td>2023-01-01 00:00:00+00:00</td>\n",
       "      <td>2023-02-19 00:00:00+00:00</td>\n",
       "      <td>12h</td>\n",
       "      <td>1.488119</td>\n",
       "      <td>bull</td>\n",
       "    </tr>\n",
       "  </tbody>\n",
       "</table>\n",
       "</div>"
      ],
      "text/plain": [
       "   Computing                start_date                  end_date candel  \\\n",
       "2          N 2023-01-01 00:00:00+00:00 2023-02-19 00:00:00+00:00     8h   \n",
       "6        N-1 2023-01-01 00:00:00+00:00 2023-02-19 00:00:00+00:00     8h   \n",
       "10       N-2 2023-01-01 00:00:00+00:00 2023-02-19 00:00:00+00:00     8h   \n",
       "0          N 2023-01-01 00:00:00+00:00 2023-02-19 00:00:00+00:00     4h   \n",
       "4        N-1 2023-01-01 00:00:00+00:00 2023-02-19 00:00:00+00:00     4h   \n",
       "8        N-2 2023-01-01 00:00:00+00:00 2023-02-19 00:00:00+00:00     4h   \n",
       "1          N 2023-01-01 00:00:00+00:00 2023-02-19 00:00:00+00:00     6h   \n",
       "5        N-1 2023-01-01 00:00:00+00:00 2023-02-19 00:00:00+00:00     6h   \n",
       "9        N-2 2023-01-01 00:00:00+00:00 2023-02-19 00:00:00+00:00     6h   \n",
       "3          N 2023-01-01 00:00:00+00:00 2023-02-19 00:00:00+00:00    12h   \n",
       "7        N-1 2023-01-01 00:00:00+00:00 2023-02-19 00:00:00+00:00    12h   \n",
       "11       N-2 2023-01-01 00:00:00+00:00 2023-02-19 00:00:00+00:00    12h   \n",
       "\n",
       "       value market_type  \n",
       "2   1.491557        bull  \n",
       "6   1.491557        bull  \n",
       "10  1.491557        bull  \n",
       "0   1.491041        bull  \n",
       "4   1.491041        bull  \n",
       "8   1.491041        bull  \n",
       "1   1.490183        bull  \n",
       "5   1.490183        bull  \n",
       "9   1.490183        bull  \n",
       "3   1.488119        bull  \n",
       "7   1.488119        bull  \n",
       "11  1.488119        bull  "
      ]
     },
     "execution_count": 278,
     "metadata": {},
     "output_type": "execute_result"
    }
   ],
   "source": [
    "df_result.sort_values('value',ascending=False)"
   ]
  },
  {
   "cell_type": "markdown",
   "metadata": {},
   "source": [
    "## Somme ploting result "
   ]
  },
  {
   "cell_type": "code",
   "execution_count": null,
   "metadata": {},
   "outputs": [
    {
     "data": {
      "text/plain": [
       "<AxesSubplot: xlabel='candel,Computing,market_type'>"
      ]
     },
     "execution_count": 38,
     "metadata": {},
     "output_type": "execute_result"
    },
    {
     "data": {
      "image/png": "[encoded data removed]",
      "text/plain": [
       "<Figure size 640x480 with 1 Axes>"
      ]
     },
     "metadata": {},
     "output_type": "display_data"
    }
   ],
   "source": [
    "df_result.groupby(['candel','Computing','market_type']).mean().sort_values('value',ascending=False).plot.bar()"
   ]
  },
  {
   "cell_type": "code",
   "execution_count": null,
   "metadata": {},
   "outputs": [
    {
     "data": {
      "text/plain": [
       "<AxesSubplot: xlabel='candel,Computing'>"
      ]
     },
     "execution_count": 59,
     "metadata": {},
     "output_type": "execute_result"
    },
    {
     "data": {
      "image/png": "[encoded data removed]",
      "text/plain": [
       "<Figure size 640x480 with 1 Axes>"
      ]
     },
     "metadata": {},
     "output_type": "display_data"
    }
   ],
   "source": [
    "df_result.groupby(['candel','Computing']).mean().sort_values('value',ascending=False).plot.bar()"
   ]
  },
  {
   "cell_type": "code",
   "execution_count": null,
   "metadata": {},
   "outputs": [
    {
     "data": {
      "text/plain": [
       "<AxesSubplot: xlabel='Computing'>"
      ]
     },
     "execution_count": 42,
     "metadata": {},
     "output_type": "execute_result"
    },
    {
     "data": {
      "image/png": "[encoded data removed]",
      "text/plain": [
       "<Figure size 640x480 with 1 Axes>"
      ]
     },
     "metadata": {},
     "output_type": "display_data"
    }
   ],
   "source": [
    "df_result.groupby('Computing').mean().sort_values('value',ascending=False).plot.bar()"
   ]
  },
  {
   "cell_type": "code",
   "execution_count": null,
   "metadata": {},
   "outputs": [
    {
     "data": {
      "image/png": "[encoded data removed]",
      "text/plain": [
       "<Figure size 640x480 with 1 Axes>"
      ]
     },
     "metadata": {},
     "output_type": "display_data"
    }
   ],
   "source": [
    "df_result.groupby('start_date').mean().sort_values('value',ascending=False).plot.bar();"
   ]
  },
  {
   "cell_type": "code",
   "execution_count": null,
   "metadata": {},
   "outputs": [
    {
     "data": {
      "image/png": "[encoded data removed]",
      "text/plain": [
       "<Figure size 640x480 with 1 Axes>"
      ]
     },
     "metadata": {},
     "output_type": "display_data"
    }
   ],
   "source": [
    "df_result.groupby(['market_type']).mean().sort_values('value',ascending=False).plot.bar();"
   ]
  },
  {
   "cell_type": "markdown",
   "metadata": {},
   "source": [
    "## Saving file "
   ]
  },
  {
   "cell_type": "code",
   "execution_count": null,
   "metadata": {},
   "outputs": [],
   "source": [
    "def save_to_csv(df, file_path):\n",
    "    df.to_csv(file_path, index=False)\n",
    "\n",
    "save_to_csv(df_result, name_csv_file)"
   ]
  },
  {
   "cell_type": "code",
   "execution_count": null,
   "metadata": {},
   "outputs": [],
   "source": [
    "def last_crypto_buyed(exchange, market1):\n",
    "  for elm in market1 :\n",
    "      etat= pd.DataFrame.from_dict(exchange.fetchMyTrades(elm)).iloc[-1:]\n",
    "      try :\n",
    "        if  etat['side'].values[0]== 'buy':\n",
    "          print(\" il ya un buy\")\n",
    "          crypto_a_vendre = etat['symbol']\n",
    "          print( crypto_a_vendre)#.values[0])\n",
    "      except KeyError:\n",
    "        print(\"il ya pas de side =buy\")\n"
   ]
  },
  {
   "cell_type": "markdown",
   "metadata": {},
   "source": [
    "## Code pool crypto en focntion du volumes "
   ]
  },
  {
   "cell_type": "markdown",
   "metadata": {},
   "source": [
    "### Download all binance cryptocurency "
   ]
  },
  {
   "cell_type": "code",
   "execution_count": null,
   "metadata": {},
   "outputs": [],
   "source": [
    "# Obtenez une liste de toutes les paires de cryptomonnaies disponibles sur Binance\n",
    "exchange_info = client.get_exchange_info()\n",
    "symbols = exchange_info['symbols']\n",
    "pairs = [symbol['symbol'] for symbol in symbols]\n",
    "\n",
    "# Paramètres pour l'historique des prix\n",
    "interval = Client.KLINE_INTERVAL_1DAY  # Intervalles de temps pour récupérer l'historique des prix\n",
    "start_date = \"1 Jan, 2017\"  # Date de début de l'historique des prix\n",
    "\n",
    "# Pour chaque paire de cryptomonnaies, récupérez l'historique des prix et enregistrez-le dans un fichier CSV\n",
    "for pair in pairs:\n",
    "    klines = client.get_historical_klines(pair, interval, start_date)\n",
    "    df = pd.DataFrame(klines, columns=['timestamp', 'open', 'high', 'low', \n",
    "                                       'close', 'volume', 'close_time', 'quote_asset_volume', \n",
    "                                       'number_of_trades', 'taker_buy_base_asset_volume', \n",
    "                                       'taker_buy_quote_asset_volume', 'ignore'])\n",
    "    df['timestamp'] = pd.to_datetime(df['timestamp'], unit='ms')\n",
    "    df.set_index('timestamp', inplace=True)\n",
    "    filename = 'data_cryptos/'+pair + '.csv'\n",
    "    df.to_csv(filename)\n",
    "    print(f'{filename} enregistré.')"
   ]
  },
  {
   "cell_type": "markdown",
   "metadata": {},
   "source": [
    "### Configuration "
   ]
  },
  {
   "cell_type": "code",
   "execution_count": 170,
   "metadata": {},
   "outputs": [],
   "source": [
    "# path from all cryptos \n",
    "path=\"data_cryptos/\"\n",
    "\n",
    "#nbr max of cryptos in the pull \n",
    "nbr_crypto_pool =10"
   ]
  },
  {
   "cell_type": "markdown",
   "metadata": {},
   "source": [
    "### Fonctions "
   ]
  },
  {
   "cell_type": "code",
   "execution_count": 159,
   "metadata": {},
   "outputs": [],
   "source": [
    "from datetime import datetime, timedelta\n",
    "import os\n",
    "\n",
    "\n",
    "def all_binance_pairs(exchange):\n",
    "    exchange_info = client.get_exchange_info()\n",
    "    symbols = exchange_info['symbols']\n",
    "    pairs = [symbol['symbol'] for symbol in symbols]\n",
    "    return pairs \n",
    "\n",
    "def list_cryptos_endswith_usdt(list_all_cryptos):\n",
    "     cryptos_usdt = [ crypto for crypto in list_all_cryptos if crypto.endswith('USDT')]\n",
    "     return cryptos_usdt\n",
    "\n",
    "\n",
    "def get_files_in_directory(path):\n",
    "    # Vérifier si le chemin existe et est un dossier\n",
    "    if os.path.isdir(path):\n",
    "        # Récupérer tous les noms de fichier dans le dossier\n",
    "        files = os.listdir(path)\n",
    "        # Retourner la liste des noms de fichier\n",
    "        return files\n",
    "    else:\n",
    "        # Retourner None si le chemin n'est pas un dossier\n",
    "        return None\n",
    "    \n",
    "def volumes(path,exchange):    \n",
    "    liste_data_volume_cryptos =[]\n",
    "    #crypto_list_to_explore =list_cryptos_endswith_usdt(all_binance_pairs(exchange)) # from api all biance pair \n",
    "    crypto_list_to_explore = list_cryptos_endswith_usdt([ elm.split(\".\")[0] for elm in get_files_in_directory(path)]) # from path\n",
    "    for crypto in crypto_list_to_explore:\n",
    "        df = pd.read_csv(f'{path}{crypto}.csv',parse_dates=True, index_col='timestamp', \n",
    "                            usecols=[\"timestamp\",\"volume\",'quote_asset_volume','taker_buy_quote_asset_volume'])\n",
    "        df[\"pair_symbol\"]=[crypto for i in range(len(df))]\n",
    "        liste_data_volume_cryptos.append(df)\n",
    "    return liste_data_volume_cryptos\n",
    "\n",
    "def pair_times_table(tout_df):\n",
    "    i=0\n",
    "    date_to_check = tout_df.index.drop_duplicates()\n",
    "    liste_final=[]\n",
    "    for date in date_to_check:\n",
    "        try :\n",
    "            df_date = tout_df.loc[date].sort_values(by=\"volume\",ascending=True)\n",
    "            liste_final.append((df_date['pair_symbol'].index[0],df_date['pair_symbol'].values))\n",
    "        except TypeError:\n",
    "            i+=1\n",
    "    pair_table = pd.DataFrame(liste_final, columns=[\"Time\",\"pairs\"]).set_index(\"Time\")\n",
    "    print(\"i est égale à : \" ,i)\n",
    "    return pair_table\n",
    "\n",
    "def get_missing_dates(date_list, date_format=\"%Y-%m-%d\"):\n",
    "    # Convertir les dates en objets datetime\n",
    "    datetime_list = date_list#[datetime.strptime(date, date_format) for date in date_list]\n",
    "    # Trier la liste par ordre croissant\n",
    "    datetime_list.sort()\n",
    "    # Récupérer la première et la dernière date de la liste\n",
    "    start_date = datetime_list[0]\n",
    "    end_date = datetime_list[-1]\n",
    "    # Calculer la différence entre deux dates\n",
    "    one_day = timedelta(days=1)\n",
    "    # Initialiser une liste pour stocker les dates manquantes\n",
    "    missing_dates = []\n",
    "    # Parcourir toutes les dates entre la première et la dernière date\n",
    "    current_date = start_date\n",
    "    while current_date <= end_date:\n",
    "        # Vérifier si la date actuelle est dans la liste des dates\n",
    "        if current_date not in datetime_list:\n",
    "            # Ajouter la date manquante à la liste des dates manquantes\n",
    "            missing_dates.append(current_date.strftime(date_format))\n",
    "        # Passer à la date suivante\n",
    "        current_date += one_day\n",
    "    # Retourner la liste des dates manquantes\n",
    "    return missing_dates"
   ]
  },
  {
   "cell_type": "markdown",
   "metadata": {},
   "source": [
    "### Excract best crypto volume"
   ]
  },
  {
   "cell_type": "code",
   "execution_count": 380,
   "metadata": {},
   "outputs": [
    {
     "name": "stdout",
     "output_type": "stream",
     "text": [
      "i est égale à :  0\n",
      "missing dates : False\n"
     ]
    }
   ],
   "source": [
    "#Concat all volumes \n",
    "tout_df = pd.concat(volumes(path,exchange))\n",
    "#resutt\n",
    "df_final = pair_times_table(tout_df).sort_index(ascending=False)\n",
    "# \n",
    "df_final['pairs'] = df_final['pairs'].apply(lambda x: x[:nbr_crypto_pool])\n",
    "#check missing dates\n",
    "print(\"missing dates :\" , True if  get_missing_dates(df_final.index.to_list(), date_format='%Y-%m-%d') else False )"
   ]
  },
  {
   "cell_type": "code",
   "execution_count": 386,
   "metadata": {},
   "outputs": [],
   "source": [
    "df_final['pairs'] = df_final['pairs'].apply(lambda x: [i[:-4] + '/' + i[-4:] for i in x])\n"
   ]
  },
  {
   "cell_type": "code",
   "execution_count": 299,
   "metadata": {},
   "outputs": [],
   "source": [
    " limbo = list(df_final.loc['2023-02-20'][0])\n"
   ]
  },
  {
   "cell_type": "code",
   "execution_count": 314,
   "metadata": {},
   "outputs": [
    {
     "data": {
      "text/plain": [
       "'2023-02-20'"
      ]
     },
     "execution_count": 314,
     "metadata": {},
     "output_type": "execute_result"
    }
   ],
   "source": [
    "df_final.index[0].strftime('%Y-%m-%d')"
   ]
  },
  {
   "cell_type": "code",
   "execution_count": 340,
   "metadata": {},
   "outputs": [
    {
     "data": {
      "text/plain": [
       "int"
      ]
     },
     "execution_count": 340,
     "metadata": {},
     "output_type": "execute_result"
    }
   ],
   "source": [
    "type(to_timestamp(df_final.index[0].strftime('%Y-%m-%d'))) "
   ]
  },
  {
   "cell_type": "code",
   "execution_count": null,
   "metadata": {},
   "outputs": [],
   "source": [
    "limbo"
   ]
  },
  {
   "cell_type": "code",
   "execution_count": 405,
   "metadata": {},
   "outputs": [
    {
     "ename": "ConnectionError",
     "evalue": "('Connection aborted.', ConnectionResetError(10054, 'Une connexion existante a dû être fermée par l’hôte distant', None, 10054, None))",
     "output_type": "error",
     "traceback": [
      "\u001b[1;31m---------------------------------------------------------------------------\u001b[0m",
      "\u001b[1;31mConnectionResetError\u001b[0m                      Traceback (most recent call last)",
      "File \u001b[1;32mc:\\Users\\helmi\\Documents\\DEV\\Cryptos\\helmi75\\.env\\lib\\site-packages\\urllib3\\connectionpool.py:703\u001b[0m, in \u001b[0;36mHTTPConnectionPool.urlopen\u001b[1;34m(self, method, url, body, headers, retries, redirect, assert_same_host, timeout, pool_timeout, release_conn, chunked, body_pos, **response_kw)\u001b[0m\n\u001b[0;32m    702\u001b[0m \u001b[39m# Make the request on the httplib connection object.\u001b[39;00m\n\u001b[1;32m--> 703\u001b[0m httplib_response \u001b[39m=\u001b[39m \u001b[39mself\u001b[39;49m\u001b[39m.\u001b[39;49m_make_request(\n\u001b[0;32m    704\u001b[0m     conn,\n\u001b[0;32m    705\u001b[0m     method,\n\u001b[0;32m    706\u001b[0m     url,\n\u001b[0;32m    707\u001b[0m     timeout\u001b[39m=\u001b[39;49mtimeout_obj,\n\u001b[0;32m    708\u001b[0m     body\u001b[39m=\u001b[39;49mbody,\n\u001b[0;32m    709\u001b[0m     headers\u001b[39m=\u001b[39;49mheaders,\n\u001b[0;32m    710\u001b[0m     chunked\u001b[39m=\u001b[39;49mchunked,\n\u001b[0;32m    711\u001b[0m )\n\u001b[0;32m    713\u001b[0m \u001b[39m# If we're going to release the connection in ``finally:``, then\u001b[39;00m\n\u001b[0;32m    714\u001b[0m \u001b[39m# the response doesn't need to know about the connection. Otherwise\u001b[39;00m\n\u001b[0;32m    715\u001b[0m \u001b[39m# it will also try to release it and we'll have a double-release\u001b[39;00m\n\u001b[0;32m    716\u001b[0m \u001b[39m# mess.\u001b[39;00m\n",
      "File \u001b[1;32mc:\\Users\\helmi\\Documents\\DEV\\Cryptos\\helmi75\\.env\\lib\\site-packages\\urllib3\\connectionpool.py:386\u001b[0m, in \u001b[0;36mHTTPConnectionPool._make_request\u001b[1;34m(self, conn, method, url, timeout, chunked, **httplib_request_kw)\u001b[0m\n\u001b[0;32m    385\u001b[0m \u001b[39mtry\u001b[39;00m:\n\u001b[1;32m--> 386\u001b[0m     \u001b[39mself\u001b[39;49m\u001b[39m.\u001b[39;49m_validate_conn(conn)\n\u001b[0;32m    387\u001b[0m \u001b[39mexcept\u001b[39;00m (SocketTimeout, BaseSSLError) \u001b[39mas\u001b[39;00m e:\n\u001b[0;32m    388\u001b[0m     \u001b[39m# Py2 raises this as a BaseSSLError, Py3 raises it as socket timeout.\u001b[39;00m\n",
      "File \u001b[1;32mc:\\Users\\helmi\\Documents\\DEV\\Cryptos\\helmi75\\.env\\lib\\site-packages\\urllib3\\connectionpool.py:1042\u001b[0m, in \u001b[0;36mHTTPSConnectionPool._validate_conn\u001b[1;34m(self, conn)\u001b[0m\n\u001b[0;32m   1041\u001b[0m \u001b[39mif\u001b[39;00m \u001b[39mnot\u001b[39;00m \u001b[39mgetattr\u001b[39m(conn, \u001b[39m\"\u001b[39m\u001b[39msock\u001b[39m\u001b[39m\"\u001b[39m, \u001b[39mNone\u001b[39;00m):  \u001b[39m# AppEngine might not have  `.sock`\u001b[39;00m\n\u001b[1;32m-> 1042\u001b[0m     conn\u001b[39m.\u001b[39;49mconnect()\n\u001b[0;32m   1044\u001b[0m \u001b[39mif\u001b[39;00m \u001b[39mnot\u001b[39;00m conn\u001b[39m.\u001b[39mis_verified:\n",
      "File \u001b[1;32mc:\\Users\\helmi\\Documents\\DEV\\Cryptos\\helmi75\\.env\\lib\\site-packages\\urllib3\\connection.py:414\u001b[0m, in \u001b[0;36mHTTPSConnection.connect\u001b[1;34m(self)\u001b[0m\n\u001b[0;32m    412\u001b[0m     context\u001b[39m.\u001b[39mload_default_certs()\n\u001b[1;32m--> 414\u001b[0m \u001b[39mself\u001b[39m\u001b[39m.\u001b[39msock \u001b[39m=\u001b[39m ssl_wrap_socket(\n\u001b[0;32m    415\u001b[0m     sock\u001b[39m=\u001b[39;49mconn,\n\u001b[0;32m    416\u001b[0m     keyfile\u001b[39m=\u001b[39;49m\u001b[39mself\u001b[39;49m\u001b[39m.\u001b[39;49mkey_file,\n\u001b[0;32m    417\u001b[0m     certfile\u001b[39m=\u001b[39;49m\u001b[39mself\u001b[39;49m\u001b[39m.\u001b[39;49mcert_file,\n\u001b[0;32m    418\u001b[0m     key_password\u001b[39m=\u001b[39;49m\u001b[39mself\u001b[39;49m\u001b[39m.\u001b[39;49mkey_password,\n\u001b[0;32m    419\u001b[0m     ca_certs\u001b[39m=\u001b[39;49m\u001b[39mself\u001b[39;49m\u001b[39m.\u001b[39;49mca_certs,\n\u001b[0;32m    420\u001b[0m     ca_cert_dir\u001b[39m=\u001b[39;49m\u001b[39mself\u001b[39;49m\u001b[39m.\u001b[39;49mca_cert_dir,\n\u001b[0;32m    421\u001b[0m     ca_cert_data\u001b[39m=\u001b[39;49m\u001b[39mself\u001b[39;49m\u001b[39m.\u001b[39;49mca_cert_data,\n\u001b[0;32m    422\u001b[0m     server_hostname\u001b[39m=\u001b[39;49mserver_hostname,\n\u001b[0;32m    423\u001b[0m     ssl_context\u001b[39m=\u001b[39;49mcontext,\n\u001b[0;32m    424\u001b[0m     tls_in_tls\u001b[39m=\u001b[39;49mtls_in_tls,\n\u001b[0;32m    425\u001b[0m )\n\u001b[0;32m    427\u001b[0m \u001b[39m# If we're using all defaults and the connection\u001b[39;00m\n\u001b[0;32m    428\u001b[0m \u001b[39m# is TLSv1 or TLSv1.1 we throw a DeprecationWarning\u001b[39;00m\n\u001b[0;32m    429\u001b[0m \u001b[39m# for the host.\u001b[39;00m\n",
      "File \u001b[1;32mc:\\Users\\helmi\\Documents\\DEV\\Cryptos\\helmi75\\.env\\lib\\site-packages\\urllib3\\util\\ssl_.py:449\u001b[0m, in \u001b[0;36mssl_wrap_socket\u001b[1;34m(sock, keyfile, certfile, cert_reqs, ca_certs, server_hostname, ssl_version, ciphers, ssl_context, ca_cert_dir, key_password, ca_cert_data, tls_in_tls)\u001b[0m\n\u001b[0;32m    448\u001b[0m \u001b[39mif\u001b[39;00m send_sni:\n\u001b[1;32m--> 449\u001b[0m     ssl_sock \u001b[39m=\u001b[39m _ssl_wrap_socket_impl(\n\u001b[0;32m    450\u001b[0m         sock, context, tls_in_tls, server_hostname\u001b[39m=\u001b[39;49mserver_hostname\n\u001b[0;32m    451\u001b[0m     )\n\u001b[0;32m    452\u001b[0m \u001b[39melse\u001b[39;00m:\n",
      "File \u001b[1;32mc:\\Users\\helmi\\Documents\\DEV\\Cryptos\\helmi75\\.env\\lib\\site-packages\\urllib3\\util\\ssl_.py:493\u001b[0m, in \u001b[0;36m_ssl_wrap_socket_impl\u001b[1;34m(sock, ssl_context, tls_in_tls, server_hostname)\u001b[0m\n\u001b[0;32m    492\u001b[0m \u001b[39mif\u001b[39;00m server_hostname:\n\u001b[1;32m--> 493\u001b[0m     \u001b[39mreturn\u001b[39;00m ssl_context\u001b[39m.\u001b[39;49mwrap_socket(sock, server_hostname\u001b[39m=\u001b[39;49mserver_hostname)\n\u001b[0;32m    494\u001b[0m \u001b[39melse\u001b[39;00m:\n",
      "File \u001b[1;32mC:\\Program Files\\WindowsApps\\PythonSoftwareFoundation.Python.3.10_3.10.2800.0_x64__qbz5n2kfra8p0\\lib\\ssl.py:513\u001b[0m, in \u001b[0;36mSSLContext.wrap_socket\u001b[1;34m(self, sock, server_side, do_handshake_on_connect, suppress_ragged_eofs, server_hostname, session)\u001b[0m\n\u001b[0;32m    507\u001b[0m \u001b[39mdef\u001b[39;00m \u001b[39mwrap_socket\u001b[39m(\u001b[39mself\u001b[39m, sock, server_side\u001b[39m=\u001b[39m\u001b[39mFalse\u001b[39;00m,\n\u001b[0;32m    508\u001b[0m                 do_handshake_on_connect\u001b[39m=\u001b[39m\u001b[39mTrue\u001b[39;00m,\n\u001b[0;32m    509\u001b[0m                 suppress_ragged_eofs\u001b[39m=\u001b[39m\u001b[39mTrue\u001b[39;00m,\n\u001b[0;32m    510\u001b[0m                 server_hostname\u001b[39m=\u001b[39m\u001b[39mNone\u001b[39;00m, session\u001b[39m=\u001b[39m\u001b[39mNone\u001b[39;00m):\n\u001b[0;32m    511\u001b[0m     \u001b[39m# SSLSocket class handles server_hostname encoding before it calls\u001b[39;00m\n\u001b[0;32m    512\u001b[0m     \u001b[39m# ctx._wrap_socket()\u001b[39;00m\n\u001b[1;32m--> 513\u001b[0m     \u001b[39mreturn\u001b[39;00m \u001b[39mself\u001b[39;49m\u001b[39m.\u001b[39;49msslsocket_class\u001b[39m.\u001b[39;49m_create(\n\u001b[0;32m    514\u001b[0m         sock\u001b[39m=\u001b[39;49msock,\n\u001b[0;32m    515\u001b[0m         server_side\u001b[39m=\u001b[39;49mserver_side,\n\u001b[0;32m    516\u001b[0m         do_handshake_on_connect\u001b[39m=\u001b[39;49mdo_handshake_on_connect,\n\u001b[0;32m    517\u001b[0m         suppress_ragged_eofs\u001b[39m=\u001b[39;49msuppress_ragged_eofs,\n\u001b[0;32m    518\u001b[0m         server_hostname\u001b[39m=\u001b[39;49mserver_hostname,\n\u001b[0;32m    519\u001b[0m         context\u001b[39m=\u001b[39;49m\u001b[39mself\u001b[39;49m,\n\u001b[0;32m    520\u001b[0m         session\u001b[39m=\u001b[39;49msession\n\u001b[0;32m    521\u001b[0m     )\n",
      "File \u001b[1;32mC:\\Program Files\\WindowsApps\\PythonSoftwareFoundation.Python.3.10_3.10.2800.0_x64__qbz5n2kfra8p0\\lib\\ssl.py:1071\u001b[0m, in \u001b[0;36mSSLSocket._create\u001b[1;34m(cls, sock, server_side, do_handshake_on_connect, suppress_ragged_eofs, server_hostname, context, session)\u001b[0m\n\u001b[0;32m   1070\u001b[0m             \u001b[39mraise\u001b[39;00m \u001b[39mValueError\u001b[39;00m(\u001b[39m\"\u001b[39m\u001b[39mdo_handshake_on_connect should not be specified for non-blocking sockets\u001b[39m\u001b[39m\"\u001b[39m)\n\u001b[1;32m-> 1071\u001b[0m         \u001b[39mself\u001b[39;49m\u001b[39m.\u001b[39;49mdo_handshake()\n\u001b[0;32m   1072\u001b[0m \u001b[39mexcept\u001b[39;00m (\u001b[39mOSError\u001b[39;00m, \u001b[39mValueError\u001b[39;00m):\n",
      "File \u001b[1;32mC:\\Program Files\\WindowsApps\\PythonSoftwareFoundation.Python.3.10_3.10.2800.0_x64__qbz5n2kfra8p0\\lib\\ssl.py:1342\u001b[0m, in \u001b[0;36mSSLSocket.do_handshake\u001b[1;34m(self, block)\u001b[0m\n\u001b[0;32m   1341\u001b[0m         \u001b[39mself\u001b[39m\u001b[39m.\u001b[39msettimeout(\u001b[39mNone\u001b[39;00m)\n\u001b[1;32m-> 1342\u001b[0m     \u001b[39mself\u001b[39;49m\u001b[39m.\u001b[39;49m_sslobj\u001b[39m.\u001b[39;49mdo_handshake()\n\u001b[0;32m   1343\u001b[0m \u001b[39mfinally\u001b[39;00m:\n",
      "\u001b[1;31mConnectionResetError\u001b[0m: [WinError 10054] Une connexion existante a dû être fermée par l’hôte distant",
      "\nDuring handling of the above exception, another exception occurred:\n",
      "\u001b[1;31mProtocolError\u001b[0m                             Traceback (most recent call last)",
      "File \u001b[1;32mc:\\Users\\helmi\\Documents\\DEV\\Cryptos\\helmi75\\.env\\lib\\site-packages\\requests\\adapters.py:489\u001b[0m, in \u001b[0;36mHTTPAdapter.send\u001b[1;34m(self, request, stream, timeout, verify, cert, proxies)\u001b[0m\n\u001b[0;32m    488\u001b[0m \u001b[39mif\u001b[39;00m \u001b[39mnot\u001b[39;00m chunked:\n\u001b[1;32m--> 489\u001b[0m     resp \u001b[39m=\u001b[39m conn\u001b[39m.\u001b[39;49murlopen(\n\u001b[0;32m    490\u001b[0m         method\u001b[39m=\u001b[39;49mrequest\u001b[39m.\u001b[39;49mmethod,\n\u001b[0;32m    491\u001b[0m         url\u001b[39m=\u001b[39;49murl,\n\u001b[0;32m    492\u001b[0m         body\u001b[39m=\u001b[39;49mrequest\u001b[39m.\u001b[39;49mbody,\n\u001b[0;32m    493\u001b[0m         headers\u001b[39m=\u001b[39;49mrequest\u001b[39m.\u001b[39;49mheaders,\n\u001b[0;32m    494\u001b[0m         redirect\u001b[39m=\u001b[39;49m\u001b[39mFalse\u001b[39;49;00m,\n\u001b[0;32m    495\u001b[0m         assert_same_host\u001b[39m=\u001b[39;49m\u001b[39mFalse\u001b[39;49;00m,\n\u001b[0;32m    496\u001b[0m         preload_content\u001b[39m=\u001b[39;49m\u001b[39mFalse\u001b[39;49;00m,\n\u001b[0;32m    497\u001b[0m         decode_content\u001b[39m=\u001b[39;49m\u001b[39mFalse\u001b[39;49;00m,\n\u001b[0;32m    498\u001b[0m         retries\u001b[39m=\u001b[39;49m\u001b[39mself\u001b[39;49m\u001b[39m.\u001b[39;49mmax_retries,\n\u001b[0;32m    499\u001b[0m         timeout\u001b[39m=\u001b[39;49mtimeout,\n\u001b[0;32m    500\u001b[0m     )\n\u001b[0;32m    502\u001b[0m \u001b[39m# Send the request.\u001b[39;00m\n\u001b[0;32m    503\u001b[0m \u001b[39melse\u001b[39;00m:\n",
      "File \u001b[1;32mc:\\Users\\helmi\\Documents\\DEV\\Cryptos\\helmi75\\.env\\lib\\site-packages\\urllib3\\connectionpool.py:787\u001b[0m, in \u001b[0;36mHTTPConnectionPool.urlopen\u001b[1;34m(self, method, url, body, headers, retries, redirect, assert_same_host, timeout, pool_timeout, release_conn, chunked, body_pos, **response_kw)\u001b[0m\n\u001b[0;32m    785\u001b[0m     e \u001b[39m=\u001b[39m ProtocolError(\u001b[39m\"\u001b[39m\u001b[39mConnection aborted.\u001b[39m\u001b[39m\"\u001b[39m, e)\n\u001b[1;32m--> 787\u001b[0m retries \u001b[39m=\u001b[39m retries\u001b[39m.\u001b[39;49mincrement(\n\u001b[0;32m    788\u001b[0m     method, url, error\u001b[39m=\u001b[39;49me, _pool\u001b[39m=\u001b[39;49m\u001b[39mself\u001b[39;49m, _stacktrace\u001b[39m=\u001b[39;49msys\u001b[39m.\u001b[39;49mexc_info()[\u001b[39m2\u001b[39;49m]\n\u001b[0;32m    789\u001b[0m )\n\u001b[0;32m    790\u001b[0m retries\u001b[39m.\u001b[39msleep()\n",
      "File \u001b[1;32mc:\\Users\\helmi\\Documents\\DEV\\Cryptos\\helmi75\\.env\\lib\\site-packages\\urllib3\\util\\retry.py:550\u001b[0m, in \u001b[0;36mRetry.increment\u001b[1;34m(self, method, url, response, error, _pool, _stacktrace)\u001b[0m\n\u001b[0;32m    549\u001b[0m \u001b[39mif\u001b[39;00m read \u001b[39mis\u001b[39;00m \u001b[39mFalse\u001b[39;00m \u001b[39mor\u001b[39;00m \u001b[39mnot\u001b[39;00m \u001b[39mself\u001b[39m\u001b[39m.\u001b[39m_is_method_retryable(method):\n\u001b[1;32m--> 550\u001b[0m     \u001b[39mraise\u001b[39;00m six\u001b[39m.\u001b[39;49mreraise(\u001b[39mtype\u001b[39;49m(error), error, _stacktrace)\n\u001b[0;32m    551\u001b[0m \u001b[39melif\u001b[39;00m read \u001b[39mis\u001b[39;00m \u001b[39mnot\u001b[39;00m \u001b[39mNone\u001b[39;00m:\n",
      "File \u001b[1;32mc:\\Users\\helmi\\Documents\\DEV\\Cryptos\\helmi75\\.env\\lib\\site-packages\\urllib3\\packages\\six.py:769\u001b[0m, in \u001b[0;36mreraise\u001b[1;34m(tp, value, tb)\u001b[0m\n\u001b[0;32m    768\u001b[0m \u001b[39mif\u001b[39;00m value\u001b[39m.\u001b[39m__traceback__ \u001b[39mis\u001b[39;00m \u001b[39mnot\u001b[39;00m tb:\n\u001b[1;32m--> 769\u001b[0m     \u001b[39mraise\u001b[39;00m value\u001b[39m.\u001b[39mwith_traceback(tb)\n\u001b[0;32m    770\u001b[0m \u001b[39mraise\u001b[39;00m value\n",
      "File \u001b[1;32mc:\\Users\\helmi\\Documents\\DEV\\Cryptos\\helmi75\\.env\\lib\\site-packages\\urllib3\\connectionpool.py:703\u001b[0m, in \u001b[0;36mHTTPConnectionPool.urlopen\u001b[1;34m(self, method, url, body, headers, retries, redirect, assert_same_host, timeout, pool_timeout, release_conn, chunked, body_pos, **response_kw)\u001b[0m\n\u001b[0;32m    702\u001b[0m \u001b[39m# Make the request on the httplib connection object.\u001b[39;00m\n\u001b[1;32m--> 703\u001b[0m httplib_response \u001b[39m=\u001b[39m \u001b[39mself\u001b[39;49m\u001b[39m.\u001b[39;49m_make_request(\n\u001b[0;32m    704\u001b[0m     conn,\n\u001b[0;32m    705\u001b[0m     method,\n\u001b[0;32m    706\u001b[0m     url,\n\u001b[0;32m    707\u001b[0m     timeout\u001b[39m=\u001b[39;49mtimeout_obj,\n\u001b[0;32m    708\u001b[0m     body\u001b[39m=\u001b[39;49mbody,\n\u001b[0;32m    709\u001b[0m     headers\u001b[39m=\u001b[39;49mheaders,\n\u001b[0;32m    710\u001b[0m     chunked\u001b[39m=\u001b[39;49mchunked,\n\u001b[0;32m    711\u001b[0m )\n\u001b[0;32m    713\u001b[0m \u001b[39m# If we're going to release the connection in ``finally:``, then\u001b[39;00m\n\u001b[0;32m    714\u001b[0m \u001b[39m# the response doesn't need to know about the connection. Otherwise\u001b[39;00m\n\u001b[0;32m    715\u001b[0m \u001b[39m# it will also try to release it and we'll have a double-release\u001b[39;00m\n\u001b[0;32m    716\u001b[0m \u001b[39m# mess.\u001b[39;00m\n",
      "File \u001b[1;32mc:\\Users\\helmi\\Documents\\DEV\\Cryptos\\helmi75\\.env\\lib\\site-packages\\urllib3\\connectionpool.py:386\u001b[0m, in \u001b[0;36mHTTPConnectionPool._make_request\u001b[1;34m(self, conn, method, url, timeout, chunked, **httplib_request_kw)\u001b[0m\n\u001b[0;32m    385\u001b[0m \u001b[39mtry\u001b[39;00m:\n\u001b[1;32m--> 386\u001b[0m     \u001b[39mself\u001b[39;49m\u001b[39m.\u001b[39;49m_validate_conn(conn)\n\u001b[0;32m    387\u001b[0m \u001b[39mexcept\u001b[39;00m (SocketTimeout, BaseSSLError) \u001b[39mas\u001b[39;00m e:\n\u001b[0;32m    388\u001b[0m     \u001b[39m# Py2 raises this as a BaseSSLError, Py3 raises it as socket timeout.\u001b[39;00m\n",
      "File \u001b[1;32mc:\\Users\\helmi\\Documents\\DEV\\Cryptos\\helmi75\\.env\\lib\\site-packages\\urllib3\\connectionpool.py:1042\u001b[0m, in \u001b[0;36mHTTPSConnectionPool._validate_conn\u001b[1;34m(self, conn)\u001b[0m\n\u001b[0;32m   1041\u001b[0m \u001b[39mif\u001b[39;00m \u001b[39mnot\u001b[39;00m \u001b[39mgetattr\u001b[39m(conn, \u001b[39m\"\u001b[39m\u001b[39msock\u001b[39m\u001b[39m\"\u001b[39m, \u001b[39mNone\u001b[39;00m):  \u001b[39m# AppEngine might not have  `.sock`\u001b[39;00m\n\u001b[1;32m-> 1042\u001b[0m     conn\u001b[39m.\u001b[39;49mconnect()\n\u001b[0;32m   1044\u001b[0m \u001b[39mif\u001b[39;00m \u001b[39mnot\u001b[39;00m conn\u001b[39m.\u001b[39mis_verified:\n",
      "File \u001b[1;32mc:\\Users\\helmi\\Documents\\DEV\\Cryptos\\helmi75\\.env\\lib\\site-packages\\urllib3\\connection.py:414\u001b[0m, in \u001b[0;36mHTTPSConnection.connect\u001b[1;34m(self)\u001b[0m\n\u001b[0;32m    412\u001b[0m     context\u001b[39m.\u001b[39mload_default_certs()\n\u001b[1;32m--> 414\u001b[0m \u001b[39mself\u001b[39m\u001b[39m.\u001b[39msock \u001b[39m=\u001b[39m ssl_wrap_socket(\n\u001b[0;32m    415\u001b[0m     sock\u001b[39m=\u001b[39;49mconn,\n\u001b[0;32m    416\u001b[0m     keyfile\u001b[39m=\u001b[39;49m\u001b[39mself\u001b[39;49m\u001b[39m.\u001b[39;49mkey_file,\n\u001b[0;32m    417\u001b[0m     certfile\u001b[39m=\u001b[39;49m\u001b[39mself\u001b[39;49m\u001b[39m.\u001b[39;49mcert_file,\n\u001b[0;32m    418\u001b[0m     key_password\u001b[39m=\u001b[39;49m\u001b[39mself\u001b[39;49m\u001b[39m.\u001b[39;49mkey_password,\n\u001b[0;32m    419\u001b[0m     ca_certs\u001b[39m=\u001b[39;49m\u001b[39mself\u001b[39;49m\u001b[39m.\u001b[39;49mca_certs,\n\u001b[0;32m    420\u001b[0m     ca_cert_dir\u001b[39m=\u001b[39;49m\u001b[39mself\u001b[39;49m\u001b[39m.\u001b[39;49mca_cert_dir,\n\u001b[0;32m    421\u001b[0m     ca_cert_data\u001b[39m=\u001b[39;49m\u001b[39mself\u001b[39;49m\u001b[39m.\u001b[39;49mca_cert_data,\n\u001b[0;32m    422\u001b[0m     server_hostname\u001b[39m=\u001b[39;49mserver_hostname,\n\u001b[0;32m    423\u001b[0m     ssl_context\u001b[39m=\u001b[39;49mcontext,\n\u001b[0;32m    424\u001b[0m     tls_in_tls\u001b[39m=\u001b[39;49mtls_in_tls,\n\u001b[0;32m    425\u001b[0m )\n\u001b[0;32m    427\u001b[0m \u001b[39m# If we're using all defaults and the connection\u001b[39;00m\n\u001b[0;32m    428\u001b[0m \u001b[39m# is TLSv1 or TLSv1.1 we throw a DeprecationWarning\u001b[39;00m\n\u001b[0;32m    429\u001b[0m \u001b[39m# for the host.\u001b[39;00m\n",
      "File \u001b[1;32mc:\\Users\\helmi\\Documents\\DEV\\Cryptos\\helmi75\\.env\\lib\\site-packages\\urllib3\\util\\ssl_.py:449\u001b[0m, in \u001b[0;36mssl_wrap_socket\u001b[1;34m(sock, keyfile, certfile, cert_reqs, ca_certs, server_hostname, ssl_version, ciphers, ssl_context, ca_cert_dir, key_password, ca_cert_data, tls_in_tls)\u001b[0m\n\u001b[0;32m    448\u001b[0m \u001b[39mif\u001b[39;00m send_sni:\n\u001b[1;32m--> 449\u001b[0m     ssl_sock \u001b[39m=\u001b[39m _ssl_wrap_socket_impl(\n\u001b[0;32m    450\u001b[0m         sock, context, tls_in_tls, server_hostname\u001b[39m=\u001b[39;49mserver_hostname\n\u001b[0;32m    451\u001b[0m     )\n\u001b[0;32m    452\u001b[0m \u001b[39melse\u001b[39;00m:\n",
      "File \u001b[1;32mc:\\Users\\helmi\\Documents\\DEV\\Cryptos\\helmi75\\.env\\lib\\site-packages\\urllib3\\util\\ssl_.py:493\u001b[0m, in \u001b[0;36m_ssl_wrap_socket_impl\u001b[1;34m(sock, ssl_context, tls_in_tls, server_hostname)\u001b[0m\n\u001b[0;32m    492\u001b[0m \u001b[39mif\u001b[39;00m server_hostname:\n\u001b[1;32m--> 493\u001b[0m     \u001b[39mreturn\u001b[39;00m ssl_context\u001b[39m.\u001b[39;49mwrap_socket(sock, server_hostname\u001b[39m=\u001b[39;49mserver_hostname)\n\u001b[0;32m    494\u001b[0m \u001b[39melse\u001b[39;00m:\n",
      "File \u001b[1;32mC:\\Program Files\\WindowsApps\\PythonSoftwareFoundation.Python.3.10_3.10.2800.0_x64__qbz5n2kfra8p0\\lib\\ssl.py:513\u001b[0m, in \u001b[0;36mSSLContext.wrap_socket\u001b[1;34m(self, sock, server_side, do_handshake_on_connect, suppress_ragged_eofs, server_hostname, session)\u001b[0m\n\u001b[0;32m    507\u001b[0m \u001b[39mdef\u001b[39;00m \u001b[39mwrap_socket\u001b[39m(\u001b[39mself\u001b[39m, sock, server_side\u001b[39m=\u001b[39m\u001b[39mFalse\u001b[39;00m,\n\u001b[0;32m    508\u001b[0m                 do_handshake_on_connect\u001b[39m=\u001b[39m\u001b[39mTrue\u001b[39;00m,\n\u001b[0;32m    509\u001b[0m                 suppress_ragged_eofs\u001b[39m=\u001b[39m\u001b[39mTrue\u001b[39;00m,\n\u001b[0;32m    510\u001b[0m                 server_hostname\u001b[39m=\u001b[39m\u001b[39mNone\u001b[39;00m, session\u001b[39m=\u001b[39m\u001b[39mNone\u001b[39;00m):\n\u001b[0;32m    511\u001b[0m     \u001b[39m# SSLSocket class handles server_hostname encoding before it calls\u001b[39;00m\n\u001b[0;32m    512\u001b[0m     \u001b[39m# ctx._wrap_socket()\u001b[39;00m\n\u001b[1;32m--> 513\u001b[0m     \u001b[39mreturn\u001b[39;00m \u001b[39mself\u001b[39;49m\u001b[39m.\u001b[39;49msslsocket_class\u001b[39m.\u001b[39;49m_create(\n\u001b[0;32m    514\u001b[0m         sock\u001b[39m=\u001b[39;49msock,\n\u001b[0;32m    515\u001b[0m         server_side\u001b[39m=\u001b[39;49mserver_side,\n\u001b[0;32m    516\u001b[0m         do_handshake_on_connect\u001b[39m=\u001b[39;49mdo_handshake_on_connect,\n\u001b[0;32m    517\u001b[0m         suppress_ragged_eofs\u001b[39m=\u001b[39;49msuppress_ragged_eofs,\n\u001b[0;32m    518\u001b[0m         server_hostname\u001b[39m=\u001b[39;49mserver_hostname,\n\u001b[0;32m    519\u001b[0m         context\u001b[39m=\u001b[39;49m\u001b[39mself\u001b[39;49m,\n\u001b[0;32m    520\u001b[0m         session\u001b[39m=\u001b[39;49msession\n\u001b[0;32m    521\u001b[0m     )\n",
      "File \u001b[1;32mC:\\Program Files\\WindowsApps\\PythonSoftwareFoundation.Python.3.10_3.10.2800.0_x64__qbz5n2kfra8p0\\lib\\ssl.py:1071\u001b[0m, in \u001b[0;36mSSLSocket._create\u001b[1;34m(cls, sock, server_side, do_handshake_on_connect, suppress_ragged_eofs, server_hostname, context, session)\u001b[0m\n\u001b[0;32m   1070\u001b[0m             \u001b[39mraise\u001b[39;00m \u001b[39mValueError\u001b[39;00m(\u001b[39m\"\u001b[39m\u001b[39mdo_handshake_on_connect should not be specified for non-blocking sockets\u001b[39m\u001b[39m\"\u001b[39m)\n\u001b[1;32m-> 1071\u001b[0m         \u001b[39mself\u001b[39;49m\u001b[39m.\u001b[39;49mdo_handshake()\n\u001b[0;32m   1072\u001b[0m \u001b[39mexcept\u001b[39;00m (\u001b[39mOSError\u001b[39;00m, \u001b[39mValueError\u001b[39;00m):\n",
      "File \u001b[1;32mC:\\Program Files\\WindowsApps\\PythonSoftwareFoundation.Python.3.10_3.10.2800.0_x64__qbz5n2kfra8p0\\lib\\ssl.py:1342\u001b[0m, in \u001b[0;36mSSLSocket.do_handshake\u001b[1;34m(self, block)\u001b[0m\n\u001b[0;32m   1341\u001b[0m         \u001b[39mself\u001b[39m\u001b[39m.\u001b[39msettimeout(\u001b[39mNone\u001b[39;00m)\n\u001b[1;32m-> 1342\u001b[0m     \u001b[39mself\u001b[39;49m\u001b[39m.\u001b[39;49m_sslobj\u001b[39m.\u001b[39;49mdo_handshake()\n\u001b[0;32m   1343\u001b[0m \u001b[39mfinally\u001b[39;00m:\n",
      "\u001b[1;31mProtocolError\u001b[0m: ('Connection aborted.', ConnectionResetError(10054, 'Une connexion existante a dû être fermée par l’hôte distant', None, 10054, None))",
      "\nDuring handling of the above exception, another exception occurred:\n",
      "\u001b[1;31mConnectionError\u001b[0m                           Traceback (most recent call last)",
      "Cell \u001b[1;32mIn[405], line 6\u001b[0m\n\u001b[0;32m      4\u001b[0m     elm[\u001b[39m0\u001b[39m]\u001b[39m.\u001b[39minsert(\u001b[39m0\u001b[39m,\u001b[39m\"\u001b[39m\u001b[39mBTC/USDT\u001b[39m\u001b[39m\"\u001b[39m)     \n\u001b[0;32m      5\u001b[0m elm[\u001b[39m0\u001b[39m]\u001b[39m=\u001b[39m \u001b[39mlist\u001b[39m(elm[\u001b[39m0\u001b[39m])   \n\u001b[1;32m----> 6\u001b[0m list_resultat\u001b[39m.\u001b[39mappend(algo_cocotier(elm[\u001b[39m0\u001b[39;49m],\u001b[39m'\u001b[39;49m\u001b[39m1d\u001b[39;49m\u001b[39m'\u001b[39;49m, star_time,to_timestamp(elm1), computing, key))\n",
      "Cell \u001b[1;32mIn[370], line 3\u001b[0m, in \u001b[0;36malgo_cocotier\u001b[1;34m(list_10_best_cryptos, delta, star_time, end_time, computing, key)\u001b[0m\n\u001b[0;32m      2\u001b[0m \u001b[39mdef\u001b[39;00m \u001b[39malgo_cocotier\u001b[39m(list_10_best_cryptos, delta, star_time, end_time, computing, key):   \n\u001b[1;32m----> 3\u001b[0m     crypto \u001b[39m=\u001b[39m dowload_data_with_volume(list_10_best_cryptos, delta,star_time, end_time)\n\u001b[0;32m      4\u001b[0m     array_mauvais_shape \u001b[39m=\u001b[39m detection_mauvais_shape(crypto)\n\u001b[0;32m      5\u001b[0m     crypto \u001b[39m=\u001b[39m correction_shape(crypto, array_mauvais_shape)\n",
      "Cell \u001b[1;32mIn[398], line 245\u001b[0m, in \u001b[0;36mdowload_data_with_volume\u001b[1;34m(market, delta, star_time, end_time)\u001b[0m\n\u001b[0;32m    243\u001b[0m \u001b[39mfor\u001b[39;00m elm \u001b[39min\u001b[39;00m market :\n\u001b[0;32m    244\u001b[0m     x \u001b[39m=\u001b[39m elm\u001b[39m.\u001b[39mlower()\u001b[39m.\u001b[39msplit(\u001b[39m\"\u001b[39m\u001b[39m/\u001b[39m\u001b[39m\"\u001b[39m)[\u001b[39m0\u001b[39m]\u001b[39m+\u001b[39m\u001b[39m\"\u001b[39m\u001b[39m_\u001b[39m\u001b[39m\"\u001b[39m\u001b[39m+\u001b[39mdelta\n\u001b[1;32m--> 245\u001b[0m     crypto[x] \u001b[39m=\u001b[39m client\u001b[39m.\u001b[39;49mget_historical_klines(elm\u001b[39m.\u001b[39;49mreplace(\u001b[39m\"\u001b[39;49m\u001b[39m/\u001b[39;49m\u001b[39m\"\u001b[39;49m,\u001b[39m\"\u001b[39;49m\u001b[39m\"\u001b[39;49m)\u001b[39m.\u001b[39;49mupper(), delta,star_time, end_time)\n\u001b[0;32m    246\u001b[0m     crypto[x]\u001b[39m=\u001b[39mpd\u001b[39m.\u001b[39mDataFrame(data\u001b[39m=\u001b[39mcrypto[x], columns\u001b[39m=\u001b[39m[\u001b[39m'\u001b[39m\u001b[39mtimestamp\u001b[39m\u001b[39m'\u001b[39m, x\u001b[39m+\u001b[39m\u001b[39m'\u001b[39m\u001b[39m_open\u001b[39m\u001b[39m'\u001b[39m, \u001b[39m'\u001b[39m\u001b[39mhigh\u001b[39m\u001b[39m'\u001b[39m, \u001b[39m'\u001b[39m\u001b[39mlow\u001b[39m\u001b[39m'\u001b[39m, x\u001b[39m+\u001b[39m\u001b[39m'\u001b[39m\u001b[39m_close\u001b[39m\u001b[39m'\u001b[39m, x\u001b[39m+\u001b[39m\u001b[39m'\u001b[39m\u001b[39m_volume\u001b[39m\u001b[39m'\u001b[39m, \u001b[39m'\u001b[39m\u001b[39mclose_time\u001b[39m\u001b[39m'\u001b[39m, x\u001b[39m+\u001b[39m\u001b[39m'\u001b[39m\u001b[39m_quote_av\u001b[39m\u001b[39m'\u001b[39m, \u001b[39m'\u001b[39m\u001b[39mtrades\u001b[39m\u001b[39m'\u001b[39m, \u001b[39m'\u001b[39m\u001b[39mtb_base_av\u001b[39m\u001b[39m'\u001b[39m, x\u001b[39m+\u001b[39m\u001b[39m'\u001b[39m\u001b[39m_tb_quote_av\u001b[39m\u001b[39m'\u001b[39m, \u001b[39m'\u001b[39m\u001b[39mignore\u001b[39m\u001b[39m'\u001b[39m ]) \n\u001b[0;32m    247\u001b[0m     crypto[x] \u001b[39m=\u001b[39m crypto[x][[\u001b[39m'\u001b[39m\u001b[39mtimestamp\u001b[39m\u001b[39m'\u001b[39m, x\u001b[39m+\u001b[39m\u001b[39m'\u001b[39m\u001b[39m_open\u001b[39m\u001b[39m'\u001b[39m, x\u001b[39m+\u001b[39m\u001b[39m'\u001b[39m\u001b[39m_close\u001b[39m\u001b[39m'\u001b[39m, x\u001b[39m+\u001b[39m\u001b[39m'\u001b[39m\u001b[39m_volume\u001b[39m\u001b[39m'\u001b[39m, x\u001b[39m+\u001b[39m\u001b[39m'\u001b[39m\u001b[39m_quote_av\u001b[39m\u001b[39m'\u001b[39m, x\u001b[39m+\u001b[39m\u001b[39m'\u001b[39m\u001b[39m_tb_quote_av\u001b[39m\u001b[39m'\u001b[39m]]\n",
      "File \u001b[1;32mc:\\Users\\helmi\\Documents\\DEV\\Cryptos\\helmi75\\.env\\lib\\site-packages\\binance\\client.py:934\u001b[0m, in \u001b[0;36mClient.get_historical_klines\u001b[1;34m(self, symbol, interval, start_str, end_str, limit, klines_type)\u001b[0m\n\u001b[0;32m    914\u001b[0m \u001b[39mdef\u001b[39;00m \u001b[39mget_historical_klines\u001b[39m(\u001b[39mself\u001b[39m, symbol, interval, start_str\u001b[39m=\u001b[39m\u001b[39mNone\u001b[39;00m, end_str\u001b[39m=\u001b[39m\u001b[39mNone\u001b[39;00m, limit\u001b[39m=\u001b[39m\u001b[39m1000\u001b[39m,\n\u001b[0;32m    915\u001b[0m                           klines_type: HistoricalKlinesType \u001b[39m=\u001b[39m HistoricalKlinesType\u001b[39m.\u001b[39mSPOT):\n\u001b[0;32m    916\u001b[0m \u001b[39m    \u001b[39m\u001b[39m\"\"\"Get Historical Klines from Binance\u001b[39;00m\n\u001b[0;32m    917\u001b[0m \n\u001b[0;32m    918\u001b[0m \u001b[39m    :param symbol: Name of symbol pair e.g BNBBTC\u001b[39;00m\n\u001b[1;32m   (...)\u001b[0m\n\u001b[0;32m    932\u001b[0m \n\u001b[0;32m    933\u001b[0m \u001b[39m    \"\"\"\u001b[39;00m\n\u001b[1;32m--> 934\u001b[0m     \u001b[39mreturn\u001b[39;00m \u001b[39mself\u001b[39;49m\u001b[39m.\u001b[39;49m_historical_klines(\n\u001b[0;32m    935\u001b[0m         symbol, interval, start_str\u001b[39m=\u001b[39;49mstart_str, end_str\u001b[39m=\u001b[39;49mend_str, limit\u001b[39m=\u001b[39;49mlimit, klines_type\u001b[39m=\u001b[39;49mklines_type\n\u001b[0;32m    936\u001b[0m     )\n",
      "File \u001b[1;32mc:\\Users\\helmi\\Documents\\DEV\\Cryptos\\helmi75\\.env\\lib\\site-packages\\binance\\client.py:973\u001b[0m, in \u001b[0;36mClient._historical_klines\u001b[1;34m(self, symbol, interval, start_str, end_str, limit, klines_type)\u001b[0m\n\u001b[0;32m    971\u001b[0m \u001b[39m# establish first available start timestamp\u001b[39;00m\n\u001b[0;32m    972\u001b[0m \u001b[39mif\u001b[39;00m start_ts \u001b[39mis\u001b[39;00m \u001b[39mnot\u001b[39;00m \u001b[39mNone\u001b[39;00m:\n\u001b[1;32m--> 973\u001b[0m     first_valid_ts \u001b[39m=\u001b[39m \u001b[39mself\u001b[39;49m\u001b[39m.\u001b[39;49m_get_earliest_valid_timestamp(symbol, interval, klines_type)\n\u001b[0;32m    974\u001b[0m     start_ts \u001b[39m=\u001b[39m \u001b[39mmax\u001b[39m(start_ts, first_valid_ts)\n\u001b[0;32m    976\u001b[0m \u001b[39m# if an end time was passed convert it\u001b[39;00m\n",
      "File \u001b[1;32mc:\\Users\\helmi\\Documents\\DEV\\Cryptos\\helmi75\\.env\\lib\\site-packages\\binance\\client.py:904\u001b[0m, in \u001b[0;36mClient._get_earliest_valid_timestamp\u001b[1;34m(self, symbol, interval, klines_type)\u001b[0m\n\u001b[0;32m    891\u001b[0m \u001b[39mdef\u001b[39;00m \u001b[39m_get_earliest_valid_timestamp\u001b[39m(\u001b[39mself\u001b[39m, symbol, interval, klines_type: HistoricalKlinesType \u001b[39m=\u001b[39m HistoricalKlinesType\u001b[39m.\u001b[39mSPOT):\n\u001b[0;32m    892\u001b[0m \u001b[39m    \u001b[39m\u001b[39m\"\"\"Get earliest valid open timestamp from Binance\u001b[39;00m\n\u001b[0;32m    893\u001b[0m \n\u001b[0;32m    894\u001b[0m \u001b[39m    :param symbol: Name of symbol pair e.g BNBBTC\u001b[39;00m\n\u001b[1;32m   (...)\u001b[0m\n\u001b[0;32m    902\u001b[0m \n\u001b[0;32m    903\u001b[0m \u001b[39m    \"\"\"\u001b[39;00m\n\u001b[1;32m--> 904\u001b[0m     kline \u001b[39m=\u001b[39m \u001b[39mself\u001b[39;49m\u001b[39m.\u001b[39;49m_klines(\n\u001b[0;32m    905\u001b[0m         klines_type\u001b[39m=\u001b[39;49mklines_type,\n\u001b[0;32m    906\u001b[0m         symbol\u001b[39m=\u001b[39;49msymbol,\n\u001b[0;32m    907\u001b[0m         interval\u001b[39m=\u001b[39;49minterval,\n\u001b[0;32m    908\u001b[0m         limit\u001b[39m=\u001b[39;49m\u001b[39m1\u001b[39;49m,\n\u001b[0;32m    909\u001b[0m         startTime\u001b[39m=\u001b[39;49m\u001b[39m0\u001b[39;49m,\n\u001b[0;32m    910\u001b[0m         endTime\u001b[39m=\u001b[39;49m\u001b[39mint\u001b[39;49m(time\u001b[39m.\u001b[39;49mtime() \u001b[39m*\u001b[39;49m \u001b[39m1000\u001b[39;49m)\n\u001b[0;32m    911\u001b[0m     )\n\u001b[0;32m    912\u001b[0m     \u001b[39mreturn\u001b[39;00m kline[\u001b[39m0\u001b[39m][\u001b[39m0\u001b[39m]\n",
      "File \u001b[1;32mc:\\Users\\helmi\\Documents\\DEV\\Cryptos\\helmi75\\.env\\lib\\site-packages\\binance\\client.py:883\u001b[0m, in \u001b[0;36mClient._klines\u001b[1;34m(self, klines_type, **params)\u001b[0m\n\u001b[0;32m    880\u001b[0m     \u001b[39mdel\u001b[39;00m params[\u001b[39m'\u001b[39m\u001b[39mendTime\u001b[39m\u001b[39m'\u001b[39m]\n\u001b[0;32m    882\u001b[0m \u001b[39mif\u001b[39;00m HistoricalKlinesType\u001b[39m.\u001b[39mSPOT \u001b[39m==\u001b[39m klines_type:\n\u001b[1;32m--> 883\u001b[0m     \u001b[39mreturn\u001b[39;00m \u001b[39mself\u001b[39m\u001b[39m.\u001b[39mget_klines(\u001b[39m*\u001b[39m\u001b[39m*\u001b[39mparams)\n\u001b[0;32m    884\u001b[0m \u001b[39melif\u001b[39;00m HistoricalKlinesType\u001b[39m.\u001b[39mFUTURES \u001b[39m==\u001b[39m klines_type:\n\u001b[0;32m    885\u001b[0m     \u001b[39mreturn\u001b[39;00m \u001b[39mself\u001b[39m\u001b[39m.\u001b[39mfutures_klines(\u001b[39m*\u001b[39m\u001b[39m*\u001b[39mparams)\n",
      "File \u001b[1;32mc:\\Users\\helmi\\Documents\\DEV\\Cryptos\\helmi75\\.env\\lib\\site-packages\\binance\\client.py:868\u001b[0m, in \u001b[0;36mClient.get_klines\u001b[1;34m(self, **params)\u001b[0m\n\u001b[0;32m    828\u001b[0m \u001b[39mdef\u001b[39;00m \u001b[39mget_klines\u001b[39m(\u001b[39mself\u001b[39m, \u001b[39m*\u001b[39m\u001b[39m*\u001b[39mparams) \u001b[39m-\u001b[39m\u001b[39m>\u001b[39m Dict:\n\u001b[0;32m    829\u001b[0m \u001b[39m    \u001b[39m\u001b[39m\"\"\"Kline/candlestick bars for a symbol. Klines are uniquely identified by their open time.\u001b[39;00m\n\u001b[0;32m    830\u001b[0m \n\u001b[0;32m    831\u001b[0m \u001b[39m    https://binance-docs.github.io/apidocs/spot/en/#kline-candlestick-data\u001b[39;00m\n\u001b[1;32m   (...)\u001b[0m\n\u001b[0;32m    866\u001b[0m \n\u001b[0;32m    867\u001b[0m \u001b[39m    \"\"\"\u001b[39;00m\n\u001b[1;32m--> 868\u001b[0m     \u001b[39mreturn\u001b[39;00m \u001b[39mself\u001b[39;49m\u001b[39m.\u001b[39;49m_get(\u001b[39m'\u001b[39;49m\u001b[39mklines\u001b[39;49m\u001b[39m'\u001b[39;49m, data\u001b[39m=\u001b[39;49mparams, version\u001b[39m=\u001b[39;49m\u001b[39mself\u001b[39;49m\u001b[39m.\u001b[39;49mPRIVATE_API_VERSION)\n",
      "File \u001b[1;32mc:\\Users\\helmi\\Documents\\DEV\\Cryptos\\helmi75\\.env\\lib\\site-packages\\binance\\client.py:371\u001b[0m, in \u001b[0;36mClient._get\u001b[1;34m(self, path, signed, version, **kwargs)\u001b[0m\n\u001b[0;32m    370\u001b[0m \u001b[39mdef\u001b[39;00m \u001b[39m_get\u001b[39m(\u001b[39mself\u001b[39m, path, signed\u001b[39m=\u001b[39m\u001b[39mFalse\u001b[39;00m, version\u001b[39m=\u001b[39mBaseClient\u001b[39m.\u001b[39mPUBLIC_API_VERSION, \u001b[39m*\u001b[39m\u001b[39m*\u001b[39mkwargs):\n\u001b[1;32m--> 371\u001b[0m     \u001b[39mreturn\u001b[39;00m \u001b[39mself\u001b[39m\u001b[39m.\u001b[39m_request_api(\u001b[39m'\u001b[39m\u001b[39mget\u001b[39m\u001b[39m'\u001b[39m, path, signed, version, \u001b[39m*\u001b[39m\u001b[39m*\u001b[39mkwargs)\n",
      "File \u001b[1;32mc:\\Users\\helmi\\Documents\\DEV\\Cryptos\\helmi75\\.env\\lib\\site-packages\\binance\\client.py:334\u001b[0m, in \u001b[0;36mClient._request_api\u001b[1;34m(self, method, path, signed, version, **kwargs)\u001b[0m\n\u001b[0;32m    330\u001b[0m \u001b[39mdef\u001b[39;00m \u001b[39m_request_api\u001b[39m(\n\u001b[0;32m    331\u001b[0m     \u001b[39mself\u001b[39m, method, path: \u001b[39mstr\u001b[39m, signed: \u001b[39mbool\u001b[39m \u001b[39m=\u001b[39m \u001b[39mFalse\u001b[39;00m, version\u001b[39m=\u001b[39mBaseClient\u001b[39m.\u001b[39mPUBLIC_API_VERSION, \u001b[39m*\u001b[39m\u001b[39m*\u001b[39mkwargs\n\u001b[0;32m    332\u001b[0m ):\n\u001b[0;32m    333\u001b[0m     uri \u001b[39m=\u001b[39m \u001b[39mself\u001b[39m\u001b[39m.\u001b[39m_create_api_uri(path, signed, version)\n\u001b[1;32m--> 334\u001b[0m     \u001b[39mreturn\u001b[39;00m \u001b[39mself\u001b[39m\u001b[39m.\u001b[39m_request(method, uri, signed, \u001b[39m*\u001b[39m\u001b[39m*\u001b[39mkwargs)\n",
      "File \u001b[1;32mc:\\Users\\helmi\\Documents\\DEV\\Cryptos\\helmi75\\.env\\lib\\site-packages\\binance\\client.py:314\u001b[0m, in \u001b[0;36mClient._request\u001b[1;34m(self, method, uri, signed, force_params, **kwargs)\u001b[0m\n\u001b[0;32m    310\u001b[0m \u001b[39mdef\u001b[39;00m \u001b[39m_request\u001b[39m(\u001b[39mself\u001b[39m, method, uri: \u001b[39mstr\u001b[39m, signed: \u001b[39mbool\u001b[39m, force_params: \u001b[39mbool\u001b[39m \u001b[39m=\u001b[39m \u001b[39mFalse\u001b[39;00m, \u001b[39m*\u001b[39m\u001b[39m*\u001b[39mkwargs):\n\u001b[0;32m    312\u001b[0m     kwargs \u001b[39m=\u001b[39m \u001b[39mself\u001b[39m\u001b[39m.\u001b[39m_get_request_kwargs(method, signed, force_params, \u001b[39m*\u001b[39m\u001b[39m*\u001b[39mkwargs)\n\u001b[1;32m--> 314\u001b[0m     \u001b[39mself\u001b[39m\u001b[39m.\u001b[39mresponse \u001b[39m=\u001b[39m \u001b[39mgetattr\u001b[39m(\u001b[39mself\u001b[39m\u001b[39m.\u001b[39msession, method)(uri, \u001b[39m*\u001b[39m\u001b[39m*\u001b[39mkwargs)\n\u001b[0;32m    315\u001b[0m     \u001b[39mreturn\u001b[39;00m \u001b[39mself\u001b[39m\u001b[39m.\u001b[39m_handle_response(\u001b[39mself\u001b[39m\u001b[39m.\u001b[39mresponse)\n",
      "File \u001b[1;32mc:\\Users\\helmi\\Documents\\DEV\\Cryptos\\helmi75\\.env\\lib\\site-packages\\requests\\sessions.py:600\u001b[0m, in \u001b[0;36mSession.get\u001b[1;34m(self, url, **kwargs)\u001b[0m\n\u001b[0;32m    592\u001b[0m \u001b[39m\u001b[39m\u001b[39mr\u001b[39m\u001b[39m\"\"\"Sends a GET request. Returns :class:`Response` object.\u001b[39;00m\n\u001b[0;32m    593\u001b[0m \n\u001b[0;32m    594\u001b[0m \u001b[39m:param url: URL for the new :class:`Request` object.\u001b[39;00m\n\u001b[0;32m    595\u001b[0m \u001b[39m:param \\*\\*kwargs: Optional arguments that ``request`` takes.\u001b[39;00m\n\u001b[0;32m    596\u001b[0m \u001b[39m:rtype: requests.Response\u001b[39;00m\n\u001b[0;32m    597\u001b[0m \u001b[39m\"\"\"\u001b[39;00m\n\u001b[0;32m    599\u001b[0m kwargs\u001b[39m.\u001b[39msetdefault(\u001b[39m\"\u001b[39m\u001b[39mallow_redirects\u001b[39m\u001b[39m\"\u001b[39m, \u001b[39mTrue\u001b[39;00m)\n\u001b[1;32m--> 600\u001b[0m \u001b[39mreturn\u001b[39;00m \u001b[39mself\u001b[39m\u001b[39m.\u001b[39mrequest(\u001b[39m\"\u001b[39m\u001b[39mGET\u001b[39m\u001b[39m\"\u001b[39m, url, \u001b[39m*\u001b[39m\u001b[39m*\u001b[39mkwargs)\n",
      "File \u001b[1;32mc:\\Users\\helmi\\Documents\\DEV\\Cryptos\\helmi75\\.env\\lib\\site-packages\\requests\\sessions.py:587\u001b[0m, in \u001b[0;36mSession.request\u001b[1;34m(self, method, url, params, data, headers, cookies, files, auth, timeout, allow_redirects, proxies, hooks, stream, verify, cert, json)\u001b[0m\n\u001b[0;32m    582\u001b[0m send_kwargs \u001b[39m=\u001b[39m {\n\u001b[0;32m    583\u001b[0m     \u001b[39m\"\u001b[39m\u001b[39mtimeout\u001b[39m\u001b[39m\"\u001b[39m: timeout,\n\u001b[0;32m    584\u001b[0m     \u001b[39m\"\u001b[39m\u001b[39mallow_redirects\u001b[39m\u001b[39m\"\u001b[39m: allow_redirects,\n\u001b[0;32m    585\u001b[0m }\n\u001b[0;32m    586\u001b[0m send_kwargs\u001b[39m.\u001b[39mupdate(settings)\n\u001b[1;32m--> 587\u001b[0m resp \u001b[39m=\u001b[39m \u001b[39mself\u001b[39m\u001b[39m.\u001b[39msend(prep, \u001b[39m*\u001b[39m\u001b[39m*\u001b[39msend_kwargs)\n\u001b[0;32m    589\u001b[0m \u001b[39mreturn\u001b[39;00m resp\n",
      "File \u001b[1;32mc:\\Users\\helmi\\Documents\\DEV\\Cryptos\\helmi75\\.env\\lib\\site-packages\\requests\\sessions.py:701\u001b[0m, in \u001b[0;36mSession.send\u001b[1;34m(self, request, **kwargs)\u001b[0m\n\u001b[0;32m    698\u001b[0m start \u001b[39m=\u001b[39m preferred_clock()\n\u001b[0;32m    700\u001b[0m \u001b[39m# Send the request\u001b[39;00m\n\u001b[1;32m--> 701\u001b[0m r \u001b[39m=\u001b[39m adapter\u001b[39m.\u001b[39msend(request, \u001b[39m*\u001b[39m\u001b[39m*\u001b[39mkwargs)\n\u001b[0;32m    703\u001b[0m \u001b[39m# Total elapsed time of the request (approximately)\u001b[39;00m\n\u001b[0;32m    704\u001b[0m elapsed \u001b[39m=\u001b[39m preferred_clock() \u001b[39m-\u001b[39m start\n",
      "File \u001b[1;32mc:\\Users\\helmi\\Documents\\DEV\\Cryptos\\helmi75\\.env\\lib\\site-packages\\requests\\adapters.py:547\u001b[0m, in \u001b[0;36mHTTPAdapter.send\u001b[1;34m(self, request, stream, timeout, verify, cert, proxies)\u001b[0m\n\u001b[0;32m    544\u001b[0m             \u001b[39mraise\u001b[39;00m\n\u001b[0;32m    546\u001b[0m \u001b[39mexcept\u001b[39;00m (ProtocolError, \u001b[39mOSError\u001b[39;00m) \u001b[39mas\u001b[39;00m err:\n\u001b[1;32m--> 547\u001b[0m     \u001b[39mraise\u001b[39;00m \u001b[39mConnectionError\u001b[39;00m(err, request\u001b[39m=\u001b[39mrequest)\n\u001b[0;32m    549\u001b[0m \u001b[39mexcept\u001b[39;00m MaxRetryError \u001b[39mas\u001b[39;00m e:\n\u001b[0;32m    550\u001b[0m     \u001b[39mif\u001b[39;00m \u001b[39misinstance\u001b[39m(e\u001b[39m.\u001b[39mreason, ConnectTimeoutError):\n\u001b[0;32m    551\u001b[0m         \u001b[39m# TODO: Remove this in 3.0.0: see #2811\u001b[39;00m\n",
      "\u001b[1;31mConnectionError\u001b[0m: ('Connection aborted.', ConnectionResetError(10054, 'Une connexion existante a dû être fermée par l’hôte distant', None, 10054, None))"
     ]
    }
   ],
   "source": [
    "list_resultat= []\n",
    "for elm1 ,elm in zip(df_final.index[:2].strftime('%Y-%m-%d'), df_final[:2].values):\n",
    "    if  \"BTC/USDT\" not in elm[0] :\n",
    "        elm[0].insert(0,\"BTC/USDT\")     \n",
    "    elm[0]= list(elm[0])   \n",
    "    list_resultat.append(algo_cocotier(elm[0],'1d', star_time,to_timestamp(elm1), computing, key))\n"
   ]
  },
  {
   "cell_type": "code",
   "execution_count": 406,
   "metadata": {},
   "outputs": [
    {
     "ename": "TypeError",
     "evalue": "list indices must be integers or slices, not tuple",
     "output_type": "error",
     "traceback": [
      "\u001b[1;31m---------------------------------------------------------------------------\u001b[0m",
      "\u001b[1;31mTypeError\u001b[0m                                 Traceback (most recent call last)",
      "Cell \u001b[1;32mIn[406], line 1\u001b[0m\n\u001b[1;32m----> 1\u001b[0m pd\u001b[39m.\u001b[39mDataFrame(list_resultat,colums\u001b[39m=\u001b[39m[\u001b[39m'\u001b[39;49m\u001b[39m'\u001b[39;49m][\u001b[39m\"\u001b[39;49m\u001b[39mComputing\u001b[39;49m\u001b[39m\"\u001b[39;49m,\u001b[39m\"\u001b[39;49m\u001b[39mstart_date\u001b[39;49m\u001b[39m\"\u001b[39;49m,\u001b[39m\"\u001b[39;49m\u001b[39mend_date\u001b[39;49m\u001b[39m\"\u001b[39;49m,\u001b[39m\"\u001b[39;49m\u001b[39mcandel\u001b[39;49m\u001b[39m\"\u001b[39;49m,\u001b[39m\"\u001b[39;49m\u001b[39mvalue\u001b[39;49m\u001b[39m\"\u001b[39;49m,\u001b[39m'\u001b[39;49m\u001b[39mmarket_type\u001b[39;49m\u001b[39m'\u001b[39;49m,\u001b[39m'\u001b[39;49m\u001b[39mpool_crypto\u001b[39;49m\u001b[39m'\u001b[39;49m])\n",
      "\u001b[1;31mTypeError\u001b[0m: list indices must be integers or slices, not tuple"
     ]
    }
   ],
   "source": [
    "pd.DataFrame(list_resultat,colums=[''][\"Computing\",\"start_date\",\"end_date\",\"candel\",\"value\",'market_type','pool_crypto'])"
   ]
  },
  {
   "cell_type": "code",
   "execution_count": 395,
   "metadata": {},
   "outputs": [
    {
     "name": "stdout",
     "output_type": "stream",
     "text": [
      "2023-02-20\n",
      "<class 'str'>\n",
      "2023-02-19\n",
      "<class 'str'>\n"
     ]
    }
   ],
   "source": [
    "for elm1 ,elm in zip(df_final.index[:2].strftime('%Y-%m-%d'), df_final[:2].values):\n",
    "    print(elm1)\n",
    "    print(type(elm1))\n",
    "    \"\"\"if  \"BTC/USDT\" not in elm[0] :\n",
    "        elm[0].insert(0,\"BTC/USDT\") \n",
    "    print(to_timestamp(elm1), elm[0])\n",
    "    algo_cocotier(elm[0],'1d', star_time,elm1, computing, key)\"\"\""
   ]
  },
  {
   "cell_type": "code",
   "execution_count": 394,
   "metadata": {},
   "outputs": [],
   "source": [
    "for elm in df_final.index.strftime('%Y-%m-%d') :\n",
    "   endtime = to_timestamp(elm)\n",
    "   "
   ]
  },
  {
   "cell_type": "code",
   "execution_count": 369,
   "metadata": {},
   "outputs": [
    {
     "data": {
      "text/plain": [
       "('N-2',\n",
       " Timestamp('2023-01-01 00:00:00+0000', tz='UTC'),\n",
       " Timestamp('2023-02-20 00:00:00+0000', tz='UTC'),\n",
       " '1d',\n",
       " 1.46101200219304,\n",
       " 'bull')"
      ]
     },
     "execution_count": 369,
     "metadata": {},
     "output_type": "execute_result"
    }
   ],
   "source": [
    "algo_cocotier('BTC/USDT', delta, star_time, end_time, computing, key)"
   ]
  },
  {
   "cell_type": "code",
   "execution_count": 373,
   "metadata": {},
   "outputs": [
    {
     "data": {
      "text/plain": [
       "('N-2',\n",
       " Timestamp('2023-01-01 00:00:00+0000', tz='UTC'),\n",
       " Timestamp('2023-02-19 00:00:00+0000', tz='UTC'),\n",
       " '1d',\n",
       " 1.4826992640261387,\n",
       " 'bull')"
      ]
     },
     "execution_count": 373,
     "metadata": {},
     "output_type": "execute_result"
    }
   ],
   "source": [
    "algo_cocotier(list_10_best_cryptos, '1d', star_time, end_time, computing, key)"
   ]
  },
  {
   "cell_type": "code",
   "execution_count": 366,
   "metadata": {},
   "outputs": [
    {
     "data": {
      "text/plain": [
       "('N-2',\n",
       " Timestamp('2023-01-01 00:00:00+0000', tz='UTC'),\n",
       " Timestamp('2023-02-20 00:00:00+0000', tz='UTC'),\n",
       " '1d',\n",
       " 1.46101200219304,\n",
       " 'bull')"
      ]
     },
     "execution_count": 366,
     "metadata": {},
     "output_type": "execute_result"
    }
   ],
   "source": [
    "u = to_timestamp(df_final.index[0].strftime('%Y-%m-%d'))\n",
    "algo_cocotier(limbo,'1d', star_time,u, computing, key)"
   ]
  }
 ],
 "metadata": {
  "kernelspec": {
   "display_name": "Python 3 (ipykernel)",
   "language": "python",
   "name": "python3"
  },
  "language_info": {
   "codemirror_mode": {
    "name": "ipython",
    "version": 3
   },
   "file_extension": ".py",
   "mimetype": "text/x-python",
   "name": "python",
   "nbconvert_exporter": "python",
   "pygments_lexer": "ipython3",
   "version": "3.8.10"
  },
  "vscode": {
   "interpreter": {
    "hash": "02c88991452b09e4a58888cd303e39543fc31c93283c0c4f29eedcc2d3a7cf3f"
   }
  }
 },
 "nbformat": 4,
 "nbformat_minor": 2
}
